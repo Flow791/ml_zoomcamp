{
 "cells": [
  {
   "cell_type": "code",
   "execution_count": 1,
   "metadata": {},
   "outputs": [],
   "source": [
    "import pandas as pd\n",
    "import numpy as np\n",
    "from tqdm.auto import tqdm \n",
    "import dtale\n",
    "import ScraperFC as sfc\n",
    "import os"
   ]
  },
  {
   "cell_type": "code",
   "execution_count": 2,
   "metadata": {},
   "outputs": [],
   "source": [
    "def read_pickle(file_path: str) -> pd.DataFrame:\n",
    "    '''\n",
    "        This function reads a csv file and returns a DataFrame.\n",
    "        \n",
    "        Parameters:\n",
    "            - file_path (str): Path to the csv file\n",
    "            \n",
    "        Returns:\n",
    "            - df (pd.DataFrame): DataFrame of the csv file\n",
    "    '''\n",
    "    \n",
    "    df_games = pd.read_pickle(file_path)\n",
    "    \n",
    "    df_games['league'] = df_games['Stage'].apply(lambda x: x.split('(')[0])\n",
    "    df_games['matchweek'] = df_games['Stage'].apply(lambda x: int(x.split('(')[1].split(' ')[1].replace(')', '')))\n",
    "    df_games.drop(columns=['Stage'], inplace=True)\n",
    "    \n",
    "    df_games.columns = df_games.columns.str.strip().str.lower().str.replace(' ', '_')\n",
    "    \n",
    "    return df_games\n",
    "\n",
    "def construct_teams_series(df_games: pd.DataFrame) -> pd.DataFrame:\n",
    "    '''\n",
    "       This function takes a DataFrame of games and returns a DataFrame of teams with their form up to a certain matchweek.\n",
    "              \n",
    "       Parameters:\n",
    "              - df_games (pd.DataFrame): DataFrame of games\n",
    "              - matchweek (int): Matchweek to consider\n",
    "                     \n",
    "       Returns:\n",
    "              - df_clubs_series (pd.DataFrame): DataFrame of teams with their form up to a certain matchweek\n",
    "    '''\n",
    "    \n",
    "    df_melted = df_games.melt(id_vars=['home_team_id', 'away_team_id', 'home_goals', 'home_xg', 'away_goals', 'away_xg', 'league', 'matchweek'], value_vars=['home_team', 'away_team'],\n",
    "                    var_name='location', value_name='team')\n",
    "    df_melted['team_id'] = df_melted.apply(lambda x: x['home_team_id'] if x['location'] == 'home_team' else x['away_team_id'], axis=1)\n",
    "    df_melted.drop(columns=['home_team_id', 'away_team_id'], inplace=True)\n",
    "\n",
    "    df_grouped = df_melted.groupby('team').apply(lambda x: x, include_groups=False)\n",
    "    df_grouped.sort_values(by=['team_id', 'team', 'matchweek'], inplace=True)\n",
    "\n",
    "    df_grouped['location_table'] = df_grouped['location'].apply(lambda x: 'H' if x == 'home_team' else 'A')\n",
    "\n",
    "    df_grouped['form'] = [  'W' if (x > y and l == 'home_team') or \n",
    "                                    (x < y and l == 'away_team') else\n",
    "                            'D' if x == y else \n",
    "                            'L' for x, y, l in zip(df_grouped['home_goals'], df_grouped['away_goals'], df_grouped['location'])]\n",
    "\n",
    "    df_grouped['home_form'] = [ '' if l == 'away_team' else\n",
    "                                'W' if x > y else\n",
    "                                'D' if x == y else \n",
    "                                'L' for x, y, l in zip(df_grouped['home_goals'], df_grouped['away_goals'], df_grouped['location'])]\n",
    "\n",
    "    df_grouped['away_form'] = [ '' if l == 'home_team' else\n",
    "                                'W' if x < y else\n",
    "                                'D' if x == y else \n",
    "                                'L' for x, y, l in zip(df_grouped['home_goals'], df_grouped['away_goals'], df_grouped['location'])]\n",
    "    \n",
    "    df_grouped['expected_form'] = [ 'W' if (x > y and l == 'home_team') or \n",
    "                                    (x < y and l == 'away_team') else\n",
    "                                    'D' if x == y else \n",
    "                                    'L' for x, y, l in zip(df_grouped['home_xg'], df_grouped['away_xg'], df_grouped['location'])]\n",
    "\n",
    "    df_grouped['expected_home_form'] = [ '' if l == 'away_team' else\n",
    "                                'W' if x > y else\n",
    "                                'D' if x == y else \n",
    "                                'L' for x, y, l in zip(df_grouped['home_xg'], df_grouped['away_xg'], df_grouped['location'])]\n",
    "\n",
    "    df_grouped['expected_away_form'] = [ '' if l == 'home_team' else\n",
    "                                'W' if x < y else\n",
    "                                'D' if x == y else \n",
    "                                'L' for x, y, l in zip(df_grouped['home_xg'], df_grouped['away_xg'], df_grouped['location'])]\n",
    "\n",
    "    df_grouped['goals_form'] = [str(x) if l == 'home_team' else str(y) for x, y, l in zip(df_grouped['home_goals'], df_grouped['away_goals'], df_grouped['location'])]\n",
    "    df_grouped['home_goals_form'] = [str(x) if l == 'home_team' else '' for x, l in zip(df_grouped['home_goals'], df_grouped['location'])]\n",
    "    df_grouped['away_goals_form'] = ['' if l == 'home_team' else str(y) for y, l in zip(df_grouped['away_goals'], df_grouped['location'])]\n",
    "\n",
    "    df_grouped['goals_form_against'] = [str(x) if l == 'away_team' else str(y) for x, y, l in zip(df_grouped['home_goals'], df_grouped['away_goals'], df_grouped['location'])]\n",
    "    df_grouped['home_goals_form_against'] = [str(x) if l == 'home_team' else '' for x, l in zip(df_grouped['away_goals'], df_grouped['location'])]\n",
    "    df_grouped['away_goals_form_against'] = [str(x) if l == 'away_team' else '' for x, l in zip(df_grouped['home_goals'], df_grouped['location'])]\n",
    "\n",
    "    df_grouped['xg_form'] = [str(x) if l == 'home_team' else str(y) for x, y, l in zip(df_grouped['home_xg'], df_grouped['away_xg'], df_grouped['location'])]\n",
    "    df_grouped['home_xg_form'] = [str(x) if l == 'home_team' else '' for x, l in zip(df_grouped['home_xg'], df_grouped['location'])]\n",
    "    df_grouped['away_xg_form'] = ['' if l == 'home_team' else str(y) for y, l in zip(df_grouped['away_xg'], df_grouped['location'])]\n",
    "\n",
    "    df_grouped['xg_form_against'] = [str(x) if l == 'away_team' else str(y) for x, y, l in zip(df_grouped['home_xg'], df_grouped['away_xg'], df_grouped['location'])]\n",
    "    df_grouped['home_xg_form_against'] = [str(x) if l == 'home_team' else '' for x, l in zip(df_grouped['away_xg'], df_grouped['location'])]\n",
    "    df_grouped['away_xg_form_against'] = [str(x) if l == 'away_team' else '' for x, l in zip(df_grouped['home_xg'], df_grouped['location'])]\n",
    "\n",
    "    df_clubs_series = df_grouped.groupby(['team_id', 'team']).agg({ 'location_table': lambda x: ''.join(x),\n",
    "                                                                    'form': lambda x: ''.join(x),\n",
    "                                                                    'home_form': lambda x: ''.join(x),\n",
    "                                                                    'away_form': lambda x: ''.join(x),\n",
    "                                                                    'expected_form': lambda x: ''.join(x),\n",
    "                                                                    'expected_home_form': lambda x: ''.join(x),\n",
    "                                                                    'expected_away_form': lambda x: ''.join(x),\n",
    "                                                                    'goals_form': lambda x: '-'.join(x),\n",
    "                                                                    'home_goals_form': lambda x: '-'.join(filter(None, x)),\n",
    "                                                                    'away_goals_form': lambda x: '-'.join(filter(None, x)),\n",
    "                                                                    'goals_form_against': lambda x: '-'.join(x),\n",
    "                                                                    'home_goals_form_against': lambda x: '-'.join(filter(None, x)),\n",
    "                                                                    'away_goals_form_against': lambda x: '-'.join(filter(None, x)),\n",
    "                                                                    'xg_form': lambda x: '-'.join(x),\n",
    "                                                                    'home_xg_form': lambda x: '-'.join(filter(None, x)),\n",
    "                                                                    'away_xg_form': lambda x: '-'.join(filter(None, x)),\n",
    "                                                                    'xg_form_against': lambda x: '-'.join(x),\n",
    "                                                                    'home_xg_form_against': lambda x: '-'.join(filter(None, x)),\n",
    "                                                                    'away_xg_form_against': lambda x: '-'.join(filter(None, x))\n",
    "                                                                }).reset_index()\n",
    "        \n",
    "    return df_clubs_series\n",
    "\n",
    "\n",
    "def get_table_pos(df_teams_series: pd.DataFrame, matchweek: int, team_id: str) -> pd.DataFrame:\n",
    "        '''\n",
    "                This function takes a DataFrame of teams with their form and a matchweek and returns the league position of a team at that matchweek.\n",
    "                \n",
    "                Parameters:\n",
    "                - df_teams_series (pd.DataFrame): DataFrame of teams with their form\n",
    "                - matchweek (int): Matchweek to consider\n",
    "                \n",
    "                Returns:\n",
    "                - pos (pd.DataFrame): League position of a team at that matchweek\n",
    "        '''\n",
    "        \n",
    "        df_teams_series = df_teams_series.copy()\n",
    "        \n",
    "        #Total\n",
    "        df_teams_series['form'] = df_teams_series['form'].str[0:matchweek-1]\n",
    "        df_teams_series['expected_form'] = df_teams_series['expected_form'].str[0:matchweek-1]\n",
    "\n",
    "        df_teams_series['total_points'] = df_teams_series['form'].apply(lambda x: sum([3 if res == 'W' else 1 if res == 'D' else 0 for res in x]))\n",
    "        df_teams_series['expected_total_points'] = df_teams_series['expected_form'].apply(lambda x: sum([3 if res == 'W' else 1 if res == 'D' else 0 for res in x]))\n",
    "        df_teams_series['expected_points_diff'] = df_teams_series['total_points'] - df_teams_series['expected_total_points']\n",
    "        df_teams_series['league_pos'] = df_teams_series['total_points'].rank(ascending=False, method='min')\n",
    "        \n",
    "        #Home\n",
    "        df_teams_series['home_form'] = df_teams_series['home_form'].str[0:matchweek-1]\n",
    "        df_teams_series['expected_home_form'] = df_teams_series['expected_home_form'].str[0:matchweek-1]\n",
    "\n",
    "        df_teams_series['home_total_points'] = df_teams_series['home_form'].apply(lambda x: sum([3 if res == 'W' else 1 if res == 'D' else 0 for res in x]))\n",
    "        df_teams_series['home_expected_total_points'] = df_teams_series['expected_home_form'].apply(lambda x: sum([3 if res == 'W' else 1 if res == 'D' else 0 for res in x]))\n",
    "        df_teams_series['home_expected_points_diff'] = df_teams_series['home_total_points'] - df_teams_series['home_expected_total_points']\n",
    "        df_teams_series['home_league_pos'] = df_teams_series['home_total_points'].rank(ascending=False, method='min')\n",
    "        \n",
    "        #Away\n",
    "        df_teams_series['away_form'] = df_teams_series['away_form'].str[0:matchweek-1]\n",
    "        df_teams_series['expected_away_form'] = df_teams_series['expected_away_form'].str[0:matchweek-1]\n",
    "\n",
    "        df_teams_series['away_total_points'] = df_teams_series['away_form'].apply(lambda x: sum([3 if res == 'W' else 1 if res == 'D' else 0 for res in x]))\n",
    "        df_teams_series['away_expected_total_points'] = df_teams_series['expected_away_form'].apply(lambda x: sum([3 if res == 'W' else 1 if res == 'D' else 0 for res in x]))\n",
    "        df_teams_series['away_expected_points_diff'] = df_teams_series['away_total_points'] - df_teams_series['away_expected_total_points']\n",
    "        df_teams_series['away_league_pos'] = df_teams_series['away_total_points'].rank(ascending=False, method='min')\n",
    "        \n",
    "\n",
    "        df_league_pos = df_teams_series[['team_id', 'team', 'league_pos', 'expected_points_diff', 'home_league_pos', 'home_expected_points_diff', 'away_league_pos', 'away_expected_points_diff']]\n",
    "\n",
    "        return df_league_pos[df_league_pos['team_id'] == team_id]\n",
    "\n",
    "\n",
    "def get_game_teams_series(df_teams_series: pd.DataFrame, df_game: pd.DataFrame, \n",
    "                          max_games_series: int = 5,\n",
    "                          max_games_loc_series: int = 3) -> (pd.DataFrame, pd.DataFrame):\n",
    "    '''\n",
    "        This function takes a DataFrame of a game and returns the form of the home and away teams up to a certain matchweek.\n",
    "        \n",
    "        Parameters:\n",
    "            - df_teams_series (pd.DataFrame): DataFrame of teams with their form\n",
    "            - df_game (pd.DataFrame): DataFrame of a game\n",
    "            \n",
    "        Returns:\n",
    "            - df_home_serie, df_away_serie (pd.DataFrame, pd.DataFrame): Tuple of dataframe with the form of the home and away teams\n",
    "    '''\n",
    "        \n",
    "    matchweek = df_game['matchweek']\n",
    "    home_team = df_game['home_team']\n",
    "    home_team_id = df_game['home_team_id']\n",
    "    away_team = df_game['away_team']\n",
    "    away_team_id = df_game['away_team_id']\n",
    "\n",
    "    df_home_series = df_teams_series[(df_teams_series['team_id'] == home_team_id) & (df_teams_series['team'] == home_team)]\n",
    "    df_away_series = df_teams_series[(df_teams_series['team_id'] == away_team_id) & (df_teams_series['team'] == away_team)]\n",
    "\n",
    "    home_game_before_matchweek = df_home_series['location_table'].str.slice(0, matchweek-1).str.count('H').values[0]\n",
    "    home_start_serie = max(0, home_game_before_matchweek - max_games_loc_series)\n",
    "    home_end_serie = home_game_before_matchweek\n",
    "    dict_home_series = {\n",
    "            'form': df_home_series.apply(lambda row: row['form'][max(0, matchweek - max_games_series - 1):matchweek-1], axis=1),\n",
    "            'expected_form': df_home_series.apply(lambda row: row['expected_form'][max(0, matchweek - max_games_series - 1):matchweek-1], axis=1),\n",
    "            'league_pos': get_table_pos(df_teams_series, matchweek, home_team_id)['league_pos'],\n",
    "            'expected_points_diff': get_table_pos(df_teams_series, matchweek, home_team_id)['expected_points_diff'],\n",
    "            'home_form': df_home_series.apply(lambda row: row['home_form'][home_start_serie:home_end_serie], axis=1),\n",
    "            'expected_home_form': df_home_series.apply(lambda row: row['expected_home_form'][home_start_serie:home_end_serie], axis=1),\n",
    "            'home_league_pos': get_table_pos(df_teams_series, matchweek, home_team_id)['home_league_pos'],\n",
    "            'home_expected_points_diff': get_table_pos(df_teams_series, matchweek, home_team_id)['home_expected_points_diff'],\n",
    "            'home_average_goals_form': (df_home_series['home_goals_form'].apply(\n",
    "                lambda x: (sum(int(num) for num in x.split('-')[home_start_serie:home_end_serie] \n",
    "                               if num) /min(max_games_loc_series, home_game_before_matchweek))\n",
    "                if min(max_games_loc_series, home_game_before_matchweek) > 0 else np.nan)),\n",
    "            'home_average_xg_form': (df_home_series['home_xg_form'].apply(\n",
    "                lambda x: sum(float(num) for num in x.split('-')[home_start_serie:home_end_serie] \n",
    "                              if num) / min(max_games_loc_series, home_game_before_matchweek) \n",
    "                if min(max_games_loc_series, home_game_before_matchweek) > 0 else np.nan)),\n",
    "            'home_average_goals_form_against': (df_home_series['home_goals_form_against'].apply(\n",
    "                lambda x: sum(int(num) for num in x.split('-')[home_start_serie:home_end_serie] \n",
    "                              if num) / min(max_games_loc_series, home_game_before_matchweek) \n",
    "                if min(max_games_loc_series, home_game_before_matchweek) > 0 else np.nan)),\n",
    "            'home_average_xg_form_against': (df_home_series['home_xg_form_against'].apply(\n",
    "                lambda x: sum(float(num) for num in x.split('-')[home_start_serie:home_end_serie] \n",
    "                              if num) / min(max_games_loc_series, home_game_before_matchweek) \n",
    "                if min(max_games_loc_series, home_game_before_matchweek) > 0 else np.nan)),\n",
    "    }\n",
    "\n",
    "    away_game_before_matchweek = df_away_series['location_table'].str.slice(0, matchweek-1).str.count('A').values[0]\n",
    "    away_start_serie = max(0, away_game_before_matchweek - max_games_loc_series)\n",
    "    away_end_serie = away_game_before_matchweek\n",
    "    dict_away_series = {\n",
    "            'form': df_away_series.apply(lambda row: row['form'][max(0, matchweek - max_games_series - 1):matchweek-1], axis=1),\n",
    "            'expected_form': df_away_series.apply(lambda row: row['expected_form'][max(0, matchweek - max_games_series - 1):matchweek-1], axis=1),\n",
    "            'league_pos': get_table_pos(df_teams_series, matchweek, away_team_id)['league_pos'],\n",
    "            'expected_points_diff': get_table_pos(df_teams_series, matchweek, away_team_id)['expected_points_diff'],\n",
    "            'away_form': df_away_series.apply(lambda row: row['away_form'][away_start_serie:away_end_serie], axis=1),\n",
    "            'expected_away_form': df_away_series.apply(lambda row: row['expected_away_form'][away_start_serie:away_end_serie], axis=1),\n",
    "            'away_league_pos': get_table_pos(df_teams_series, matchweek, away_team_id)['away_league_pos'],\n",
    "            'away_expected_points_diff': get_table_pos(df_teams_series, matchweek, away_team_id)['away_expected_points_diff'],\n",
    "            'away_average_goals_form': (df_away_series['away_goals_form'].apply(\n",
    "                lambda x: sum(int(num) for num in x.split('-')[away_start_serie:away_end_serie] \n",
    "                              if num) / min(max_games_loc_series, away_game_before_matchweek) \n",
    "                if min(max_games_loc_series, away_game_before_matchweek) > 0 else np.nan)),\n",
    "            'away_average_xg_form': (df_away_series['away_xg_form'].apply(\n",
    "                lambda x: sum(float(num) for num in x.split('-')[away_start_serie:away_end_serie] \n",
    "                              if num) / min(max_games_loc_series, away_game_before_matchweek) \n",
    "                if min(max_games_loc_series, away_game_before_matchweek) > 0 else np.nan)),\n",
    "            'away_average_goals_form_against': (df_away_series['away_goals_form_against'].apply(\n",
    "                lambda x: sum(int(num) for num in x.split('-')[away_start_serie:away_end_serie] \n",
    "                              if num) / min(max_games_loc_series, away_game_before_matchweek) \n",
    "                if min(max_games_loc_series, away_game_before_matchweek) > 0 else np.nan)),\n",
    "            'away_average_xg_form_against': (df_away_series['away_xg_form_against'].apply(\n",
    "                lambda x: sum(float(num) for num in x.split('-')[away_start_serie:away_end_serie] \n",
    "                              if num) / min(max_games_loc_series, away_game_before_matchweek) \n",
    "                if min(max_games_loc_series, away_game_before_matchweek) > 0 else np.nan))\n",
    "    }\n",
    "\n",
    "    df_home_team_serie = pd.DataFrame(dict_home_series)\n",
    "    df_away_team_serie = pd.DataFrame(dict_away_series)\n",
    "    \n",
    "    #print(f'Matchweek {matchweek} | {home_team} form: {home_serie.values[0]} - \\n{away_team} form: {away_serie.values[0]}')\n",
    "    return df_home_team_serie, df_away_team_serie\n",
    "\n",
    "\n",
    "def get_game_players(df_game: pd.DataFrame) -> pd.DataFrame:\n",
    "    '''\n",
    "        This function takes a DataFrame of a game and returns a DataFrame of players for each team who participates at the game.\n",
    "        \n",
    "        Parameters:\n",
    "            - df_game (pd.DataFrame): DataFrame of a game\n",
    "            \n",
    "        Returns:\n",
    "            - home_players, away_players (pd.DataFrame): DataFrames of players for each team\n",
    "    '''\n",
    "            \n",
    "    home_players_stats = df_game['home_player_stats'].apply(pd.DataFrame)\n",
    "    away_players_stats = df_game['away_player_stats'].apply(pd.DataFrame)\n",
    "\n",
    "    home_players_summary = home_players_stats['Summary'].apply(pd.Series)\n",
    "    away_players_summary = away_players_stats['Summary'].apply(pd.Series)\n",
    "    \n",
    "    home_players_summary.columns = [col[1].strip().lower() if 'Unnamed' in col[0] else '_'.join(col).strip().lower() for col in home_players_summary.columns.values]\n",
    "    home_players_summary.columns = [col.lower() for col in home_players_summary.columns]\n",
    "    away_players_summary.columns = [col[1].strip() if 'Unnamed' in col[0] else '_'.join(col).strip() for col in away_players_summary.columns.values]\n",
    "    away_players_summary.columns = [col.lower() for col in away_players_summary.columns]\n",
    "    \n",
    "    home_players = home_players_summary[~home_players_summary['player'].str.contains(\"Player\", na=False)][['player', 'pos', 'min']]\n",
    "    away_players = away_players_summary[~away_players_summary['player'].str.contains(\"Player\", na=False)][['player', 'pos', 'min']]\n",
    "\n",
    "    return home_players, away_players\n",
    "\n",
    "\n",
    "def construct_db(path: str) -> pd.DataFrame:\n",
    "    df_pl_games = read_pickle(path)\n",
    "    df_pl_games.drop(columns=['link'], inplace=True)\n",
    "\n",
    "    df_teams_series = construct_teams_series(df_pl_games)\n",
    "    df_full_games = pd.DataFrame()\n",
    "\n",
    "    for game_index in tqdm(range(0, len(df_pl_games) -1)): \n",
    "        df_game = df_pl_games.loc[game_index]\n",
    "        home_team_serie, away_team_serie = get_game_teams_series(df_teams_series, df_game)\n",
    "                \n",
    "        current_game_dict = {\n",
    "            'date': df_game['date'],\n",
    "            'league': df_game['league'],\n",
    "            'matchweek': df_game['matchweek'],\n",
    "            \n",
    "            'home_team_id': df_game['home_team_id'],\n",
    "            'home_team': df_game['home_team'],\n",
    "            'home_manager': df_game['home_manager'],\n",
    "            'home_formation': df_game['home_formation'],\n",
    "            'home_goals': df_game['home_goals'],\n",
    "            'home_xg': df_game['home_xg'],\n",
    "            \n",
    "            'away_xg': df_game['away_xg'],\n",
    "            'away_goals': df_game['away_goals'],\n",
    "            'away_team': df_game['away_team'],\n",
    "            'away_manager': df_game['away_manager'],\n",
    "            'away_formation': df_game['away_formation'],\n",
    "            'away_team_id': df_game['away_team_id'],\n",
    "        \n",
    "            'home_team_form': home_team_serie['form'].values[0],\n",
    "            'home_team_league_pos': home_team_serie['league_pos'].values[0],\n",
    "            'home_team_points_diff': home_team_serie['expected_points_diff'].values[0],\n",
    "            'home_team_home_form': home_team_serie['home_form'].values[0],\n",
    "            'home_team_home_league_pos': home_team_serie['home_league_pos'].values[0],\n",
    "            'home_team_home_points_diff': home_team_serie['home_expected_points_diff'].values[0],\n",
    "            'home_team_average_goals_form': home_team_serie['home_average_goals_form'].values[0],\n",
    "            'home_team_average_xg_form': home_team_serie['home_average_xg_form'].values[0],\n",
    "            'home_team_average_goals_form_against': home_team_serie['home_average_goals_form_against'].values[0],\n",
    "            'home_team_average_xg_form_against': home_team_serie['home_average_xg_form_against'].values[0],\n",
    "            \n",
    "            'away_team_form': away_team_serie['form'].values[0],\n",
    "            'away_team_league_pos': away_team_serie['league_pos'].values[0],\n",
    "            'away_team_points_diff': away_team_serie['expected_points_diff'].values[0],\n",
    "            'away_team_away_form': away_team_serie['away_form'].values[0],\n",
    "            'away_team_away_league_pos': away_team_serie['away_league_pos'].values[0],\n",
    "            'away_team_away_points_diff': away_team_serie['away_expected_points_diff'].values[0],\n",
    "            'away_team_average_goals_form': away_team_serie['away_average_goals_form'].values[0],\n",
    "            'away_team_average_xg_form': away_team_serie['away_average_xg_form'].values[0],\n",
    "            'away_team_average_goals_form_against': away_team_serie['away_average_goals_form_against'].values[0],\n",
    "            'away_team_average_xg_form_against': away_team_serie['away_average_xg_form_against'].values[0],\n",
    "        }\n",
    "            \n",
    "        df_current_game = pd.DataFrame([current_game_dict])\n",
    "        df_full_games = pd.concat([df_full_games, df_current_game]).reset_index(drop=True)\n",
    "\n",
    "    return df_full_games"
   ]
  },
  {
   "cell_type": "code",
   "execution_count": 3,
   "metadata": {},
   "outputs": [
    {
     "name": "stdout",
     "output_type": "stream",
     "text": [
      "--- Downloading Ligue 1 2022-2023 ---\n"
     ]
    },
    {
     "name": "stderr",
     "output_type": "stream",
     "text": [
      "2022-2023 Ligue 1 matches: 100%|██████████| 380/380 [49:19<00:00,  7.79s/it]\n"
     ]
    },
    {
     "name": "stdout",
     "output_type": "stream",
     "text": [
      "Ligue 1 2022-2023 saved !\n"
     ]
    },
    {
     "data": {
      "application/vnd.jupyter.widget-view+json": {
       "model_id": "5fc4179a017942eeb2369153e220825a",
       "version_major": 2,
       "version_minor": 0
      },
      "text/plain": [
       "  0%|          | 0/379 [00:00<?, ?it/s]"
      ]
     },
     "metadata": {},
     "output_type": "display_data"
    },
    {
     "name": "stdout",
     "output_type": "stream",
     "text": [
      "Ligue 1 2022-2023 constructed !\n",
      "Ligue 1 2022-2023 CSV saved !\n",
      "--- Downloading La Liga 2022-2023 ---\n"
     ]
    },
    {
     "name": "stderr",
     "output_type": "stream",
     "text": [
      "2022-2023 La Liga matches: 100%|██████████| 380/380 [52:19<00:00,  8.26s/it]\n"
     ]
    },
    {
     "name": "stdout",
     "output_type": "stream",
     "text": [
      "La Liga 2022-2023 saved !\n"
     ]
    },
    {
     "data": {
      "application/vnd.jupyter.widget-view+json": {
       "model_id": "7481df471be9444488d55763dfa035af",
       "version_major": 2,
       "version_minor": 0
      },
      "text/plain": [
       "  0%|          | 0/379 [00:00<?, ?it/s]"
      ]
     },
     "metadata": {},
     "output_type": "display_data"
    },
    {
     "name": "stdout",
     "output_type": "stream",
     "text": [
      "La Liga 2022-2023 constructed !\n",
      "La Liga 2022-2023 CSV saved !\n",
      "--- Downloading Serie A 2024-2025 ---\n"
     ]
    },
    {
     "name": "stderr",
     "output_type": "stream",
     "text": [
      "2024-2025 Serie A matches: 100%|██████████| 119/119 [16:58<00:00,  8.56s/it]\n"
     ]
    },
    {
     "name": "stdout",
     "output_type": "stream",
     "text": [
      "Serie A 2024-2025 saved !\n"
     ]
    },
    {
     "data": {
      "application/vnd.jupyter.widget-view+json": {
       "model_id": "f7f95b56fe2b4d85972c117eab4127bb",
       "version_major": 2,
       "version_minor": 0
      },
      "text/plain": [
       "  0%|          | 0/118 [00:00<?, ?it/s]"
      ]
     },
     "metadata": {},
     "output_type": "display_data"
    },
    {
     "name": "stdout",
     "output_type": "stream",
     "text": [
      "Serie A 2024-2025 constructed !\n",
      "Serie A 2024-2025 CSV saved !\n",
      "--- Downloading Serie A 2023-2024 ---\n"
     ]
    },
    {
     "name": "stderr",
     "output_type": "stream",
     "text": [
      "2023-2024 Serie A matches: 100%|██████████| 380/380 [53:58<00:00,  8.52s/it]\n"
     ]
    },
    {
     "name": "stdout",
     "output_type": "stream",
     "text": [
      "Serie A 2023-2024 saved !\n"
     ]
    },
    {
     "data": {
      "application/vnd.jupyter.widget-view+json": {
       "model_id": "f66be9c7fa7e42a19ba1c7fbbde0c216",
       "version_major": 2,
       "version_minor": 0
      },
      "text/plain": [
       "  0%|          | 0/379 [00:00<?, ?it/s]"
      ]
     },
     "metadata": {},
     "output_type": "display_data"
    },
    {
     "name": "stdout",
     "output_type": "stream",
     "text": [
      "Serie A 2023-2024 constructed !\n",
      "Serie A 2023-2024 CSV saved !\n",
      "--- Downloading Serie A 2022-2023 ---\n"
     ]
    },
    {
     "name": "stderr",
     "output_type": "stream",
     "text": [
      "2022-2023 Serie A matches: 100%|██████████| 381/381 [54:13<00:00,  8.54s/it]\n"
     ]
    },
    {
     "name": "stdout",
     "output_type": "stream",
     "text": [
      "Serie A 2022-2023 saved !\n"
     ]
    },
    {
     "ename": "ValueError",
     "evalue": "invalid literal for int() with base 10: 'tie-breaker'",
     "output_type": "error",
     "traceback": [
      "\u001b[0;31m---------------------------------------------------------------------------\u001b[0m",
      "\u001b[0;31mValueError\u001b[0m                                Traceback (most recent call last)",
      "Cell \u001b[0;32mIn[3], line 19\u001b[0m\n\u001b[1;32m     16\u001b[0m df_games_dl\u001b[38;5;241m.\u001b[39mto_pickle(pkl_path)\n\u001b[1;32m     17\u001b[0m \u001b[38;5;28mprint\u001b[39m(\u001b[38;5;124mf\u001b[39m\u001b[38;5;124m'\u001b[39m\u001b[38;5;132;01m{\u001b[39;00mleague\u001b[38;5;132;01m}\u001b[39;00m\u001b[38;5;124m \u001b[39m\u001b[38;5;132;01m{\u001b[39;00mseason\u001b[38;5;132;01m}\u001b[39;00m\u001b[38;5;124m saved !\u001b[39m\u001b[38;5;124m'\u001b[39m)\n\u001b[0;32m---> 19\u001b[0m df_teams \u001b[38;5;241m=\u001b[39m \u001b[43mconstruct_db\u001b[49m\u001b[43m(\u001b[49m\u001b[43mpkl_path\u001b[49m\u001b[43m)\u001b[49m\n\u001b[1;32m     20\u001b[0m \u001b[38;5;28mprint\u001b[39m(\u001b[38;5;124mf\u001b[39m\u001b[38;5;124m'\u001b[39m\u001b[38;5;132;01m{\u001b[39;00mleague\u001b[38;5;132;01m}\u001b[39;00m\u001b[38;5;124m \u001b[39m\u001b[38;5;132;01m{\u001b[39;00mseason\u001b[38;5;132;01m}\u001b[39;00m\u001b[38;5;124m constructed !\u001b[39m\u001b[38;5;124m'\u001b[39m)\n\u001b[1;32m     21\u001b[0m df_teams\u001b[38;5;241m.\u001b[39mto_csv(csv_path)\n",
      "Cell \u001b[0;32mIn[2], line 280\u001b[0m, in \u001b[0;36mconstruct_db\u001b[0;34m(path)\u001b[0m\n\u001b[1;32m    279\u001b[0m \u001b[38;5;28;01mdef\u001b[39;00m \u001b[38;5;21mconstruct_db\u001b[39m(path: \u001b[38;5;28mstr\u001b[39m) \u001b[38;5;241m-\u001b[39m\u001b[38;5;241m>\u001b[39m pd\u001b[38;5;241m.\u001b[39mDataFrame:\n\u001b[0;32m--> 280\u001b[0m     df_pl_games \u001b[38;5;241m=\u001b[39m \u001b[43mread_pickle\u001b[49m\u001b[43m(\u001b[49m\u001b[43mpath\u001b[49m\u001b[43m)\u001b[49m\n\u001b[1;32m    281\u001b[0m     df_pl_games\u001b[38;5;241m.\u001b[39mdrop(columns\u001b[38;5;241m=\u001b[39m[\u001b[38;5;124m'\u001b[39m\u001b[38;5;124mlink\u001b[39m\u001b[38;5;124m'\u001b[39m], inplace\u001b[38;5;241m=\u001b[39m\u001b[38;5;28;01mTrue\u001b[39;00m)\n\u001b[1;32m    283\u001b[0m     df_teams_series \u001b[38;5;241m=\u001b[39m construct_teams_series(df_pl_games)\n",
      "Cell \u001b[0;32mIn[2], line 15\u001b[0m, in \u001b[0;36mread_pickle\u001b[0;34m(file_path)\u001b[0m\n\u001b[1;32m     12\u001b[0m df_games \u001b[38;5;241m=\u001b[39m pd\u001b[38;5;241m.\u001b[39mread_pickle(file_path)\n\u001b[1;32m     14\u001b[0m df_games[\u001b[38;5;124m'\u001b[39m\u001b[38;5;124mleague\u001b[39m\u001b[38;5;124m'\u001b[39m] \u001b[38;5;241m=\u001b[39m df_games[\u001b[38;5;124m'\u001b[39m\u001b[38;5;124mStage\u001b[39m\u001b[38;5;124m'\u001b[39m]\u001b[38;5;241m.\u001b[39mapply(\u001b[38;5;28;01mlambda\u001b[39;00m x: x\u001b[38;5;241m.\u001b[39msplit(\u001b[38;5;124m'\u001b[39m\u001b[38;5;124m(\u001b[39m\u001b[38;5;124m'\u001b[39m)[\u001b[38;5;241m0\u001b[39m])\n\u001b[0;32m---> 15\u001b[0m df_games[\u001b[38;5;124m'\u001b[39m\u001b[38;5;124mmatchweek\u001b[39m\u001b[38;5;124m'\u001b[39m] \u001b[38;5;241m=\u001b[39m \u001b[43mdf_games\u001b[49m\u001b[43m[\u001b[49m\u001b[38;5;124;43m'\u001b[39;49m\u001b[38;5;124;43mStage\u001b[39;49m\u001b[38;5;124;43m'\u001b[39;49m\u001b[43m]\u001b[49m\u001b[38;5;241;43m.\u001b[39;49m\u001b[43mapply\u001b[49m\u001b[43m(\u001b[49m\u001b[38;5;28;43;01mlambda\u001b[39;49;00m\u001b[43m \u001b[49m\u001b[43mx\u001b[49m\u001b[43m:\u001b[49m\u001b[43m \u001b[49m\u001b[38;5;28;43mint\u001b[39;49m\u001b[43m(\u001b[49m\u001b[43mx\u001b[49m\u001b[38;5;241;43m.\u001b[39;49m\u001b[43msplit\u001b[49m\u001b[43m(\u001b[49m\u001b[38;5;124;43m'\u001b[39;49m\u001b[38;5;124;43m(\u001b[39;49m\u001b[38;5;124;43m'\u001b[39;49m\u001b[43m)\u001b[49m\u001b[43m[\u001b[49m\u001b[38;5;241;43m1\u001b[39;49m\u001b[43m]\u001b[49m\u001b[38;5;241;43m.\u001b[39;49m\u001b[43msplit\u001b[49m\u001b[43m(\u001b[49m\u001b[38;5;124;43m'\u001b[39;49m\u001b[38;5;124;43m \u001b[39;49m\u001b[38;5;124;43m'\u001b[39;49m\u001b[43m)\u001b[49m\u001b[43m[\u001b[49m\u001b[38;5;241;43m1\u001b[39;49m\u001b[43m]\u001b[49m\u001b[38;5;241;43m.\u001b[39;49m\u001b[43mreplace\u001b[49m\u001b[43m(\u001b[49m\u001b[38;5;124;43m'\u001b[39;49m\u001b[38;5;124;43m)\u001b[39;49m\u001b[38;5;124;43m'\u001b[39;49m\u001b[43m,\u001b[49m\u001b[43m \u001b[49m\u001b[38;5;124;43m'\u001b[39;49m\u001b[38;5;124;43m'\u001b[39;49m\u001b[43m)\u001b[49m\u001b[43m)\u001b[49m\u001b[43m)\u001b[49m\n\u001b[1;32m     16\u001b[0m df_games\u001b[38;5;241m.\u001b[39mdrop(columns\u001b[38;5;241m=\u001b[39m[\u001b[38;5;124m'\u001b[39m\u001b[38;5;124mStage\u001b[39m\u001b[38;5;124m'\u001b[39m], inplace\u001b[38;5;241m=\u001b[39m\u001b[38;5;28;01mTrue\u001b[39;00m)\n\u001b[1;32m     18\u001b[0m df_games\u001b[38;5;241m.\u001b[39mcolumns \u001b[38;5;241m=\u001b[39m df_games\u001b[38;5;241m.\u001b[39mcolumns\u001b[38;5;241m.\u001b[39mstr\u001b[38;5;241m.\u001b[39mstrip()\u001b[38;5;241m.\u001b[39mstr\u001b[38;5;241m.\u001b[39mlower()\u001b[38;5;241m.\u001b[39mstr\u001b[38;5;241m.\u001b[39mreplace(\u001b[38;5;124m'\u001b[39m\u001b[38;5;124m \u001b[39m\u001b[38;5;124m'\u001b[39m, \u001b[38;5;124m'\u001b[39m\u001b[38;5;124m_\u001b[39m\u001b[38;5;124m'\u001b[39m)\n",
      "File \u001b[0;32m~/Workspace/Learning/ml_zoomcamp/.venv/lib/python3.13/site-packages/pandas/core/series.py:4924\u001b[0m, in \u001b[0;36mSeries.apply\u001b[0;34m(self, func, convert_dtype, args, by_row, **kwargs)\u001b[0m\n\u001b[1;32m   4789\u001b[0m \u001b[38;5;28;01mdef\u001b[39;00m \u001b[38;5;21mapply\u001b[39m(\n\u001b[1;32m   4790\u001b[0m     \u001b[38;5;28mself\u001b[39m,\n\u001b[1;32m   4791\u001b[0m     func: AggFuncType,\n\u001b[0;32m   (...)\u001b[0m\n\u001b[1;32m   4796\u001b[0m     \u001b[38;5;241m*\u001b[39m\u001b[38;5;241m*\u001b[39mkwargs,\n\u001b[1;32m   4797\u001b[0m ) \u001b[38;5;241m-\u001b[39m\u001b[38;5;241m>\u001b[39m DataFrame \u001b[38;5;241m|\u001b[39m Series:\n\u001b[1;32m   4798\u001b[0m \u001b[38;5;250m    \u001b[39m\u001b[38;5;124;03m\"\"\"\u001b[39;00m\n\u001b[1;32m   4799\u001b[0m \u001b[38;5;124;03m    Invoke function on values of Series.\u001b[39;00m\n\u001b[1;32m   4800\u001b[0m \n\u001b[0;32m   (...)\u001b[0m\n\u001b[1;32m   4915\u001b[0m \u001b[38;5;124;03m    dtype: float64\u001b[39;00m\n\u001b[1;32m   4916\u001b[0m \u001b[38;5;124;03m    \"\"\"\u001b[39;00m\n\u001b[1;32m   4917\u001b[0m     \u001b[38;5;28;01mreturn\u001b[39;00m \u001b[43mSeriesApply\u001b[49m\u001b[43m(\u001b[49m\n\u001b[1;32m   4918\u001b[0m \u001b[43m        \u001b[49m\u001b[38;5;28;43mself\u001b[39;49m\u001b[43m,\u001b[49m\n\u001b[1;32m   4919\u001b[0m \u001b[43m        \u001b[49m\u001b[43mfunc\u001b[49m\u001b[43m,\u001b[49m\n\u001b[1;32m   4920\u001b[0m \u001b[43m        \u001b[49m\u001b[43mconvert_dtype\u001b[49m\u001b[38;5;241;43m=\u001b[39;49m\u001b[43mconvert_dtype\u001b[49m\u001b[43m,\u001b[49m\n\u001b[1;32m   4921\u001b[0m \u001b[43m        \u001b[49m\u001b[43mby_row\u001b[49m\u001b[38;5;241;43m=\u001b[39;49m\u001b[43mby_row\u001b[49m\u001b[43m,\u001b[49m\n\u001b[1;32m   4922\u001b[0m \u001b[43m        \u001b[49m\u001b[43margs\u001b[49m\u001b[38;5;241;43m=\u001b[39;49m\u001b[43margs\u001b[49m\u001b[43m,\u001b[49m\n\u001b[1;32m   4923\u001b[0m \u001b[43m        \u001b[49m\u001b[43mkwargs\u001b[49m\u001b[38;5;241;43m=\u001b[39;49m\u001b[43mkwargs\u001b[49m\u001b[43m,\u001b[49m\n\u001b[0;32m-> 4924\u001b[0m \u001b[43m    \u001b[49m\u001b[43m)\u001b[49m\u001b[38;5;241;43m.\u001b[39;49m\u001b[43mapply\u001b[49m\u001b[43m(\u001b[49m\u001b[43m)\u001b[49m\n",
      "File \u001b[0;32m~/Workspace/Learning/ml_zoomcamp/.venv/lib/python3.13/site-packages/pandas/core/apply.py:1427\u001b[0m, in \u001b[0;36mSeriesApply.apply\u001b[0;34m(self)\u001b[0m\n\u001b[1;32m   1424\u001b[0m     \u001b[38;5;28;01mreturn\u001b[39;00m \u001b[38;5;28mself\u001b[39m\u001b[38;5;241m.\u001b[39mapply_compat()\n\u001b[1;32m   1426\u001b[0m \u001b[38;5;66;03m# self.func is Callable\u001b[39;00m\n\u001b[0;32m-> 1427\u001b[0m \u001b[38;5;28;01mreturn\u001b[39;00m \u001b[38;5;28;43mself\u001b[39;49m\u001b[38;5;241;43m.\u001b[39;49m\u001b[43mapply_standard\u001b[49m\u001b[43m(\u001b[49m\u001b[43m)\u001b[49m\n",
      "File \u001b[0;32m~/Workspace/Learning/ml_zoomcamp/.venv/lib/python3.13/site-packages/pandas/core/apply.py:1507\u001b[0m, in \u001b[0;36mSeriesApply.apply_standard\u001b[0;34m(self)\u001b[0m\n\u001b[1;32m   1501\u001b[0m \u001b[38;5;66;03m# row-wise access\u001b[39;00m\n\u001b[1;32m   1502\u001b[0m \u001b[38;5;66;03m# apply doesn't have a `na_action` keyword and for backward compat reasons\u001b[39;00m\n\u001b[1;32m   1503\u001b[0m \u001b[38;5;66;03m# we need to give `na_action=\"ignore\"` for categorical data.\u001b[39;00m\n\u001b[1;32m   1504\u001b[0m \u001b[38;5;66;03m# TODO: remove the `na_action=\"ignore\"` when that default has been changed in\u001b[39;00m\n\u001b[1;32m   1505\u001b[0m \u001b[38;5;66;03m#  Categorical (GH51645).\u001b[39;00m\n\u001b[1;32m   1506\u001b[0m action \u001b[38;5;241m=\u001b[39m \u001b[38;5;124m\"\u001b[39m\u001b[38;5;124mignore\u001b[39m\u001b[38;5;124m\"\u001b[39m \u001b[38;5;28;01mif\u001b[39;00m \u001b[38;5;28misinstance\u001b[39m(obj\u001b[38;5;241m.\u001b[39mdtype, CategoricalDtype) \u001b[38;5;28;01melse\u001b[39;00m \u001b[38;5;28;01mNone\u001b[39;00m\n\u001b[0;32m-> 1507\u001b[0m mapped \u001b[38;5;241m=\u001b[39m \u001b[43mobj\u001b[49m\u001b[38;5;241;43m.\u001b[39;49m\u001b[43m_map_values\u001b[49m\u001b[43m(\u001b[49m\n\u001b[1;32m   1508\u001b[0m \u001b[43m    \u001b[49m\u001b[43mmapper\u001b[49m\u001b[38;5;241;43m=\u001b[39;49m\u001b[43mcurried\u001b[49m\u001b[43m,\u001b[49m\u001b[43m \u001b[49m\u001b[43mna_action\u001b[49m\u001b[38;5;241;43m=\u001b[39;49m\u001b[43maction\u001b[49m\u001b[43m,\u001b[49m\u001b[43m \u001b[49m\u001b[43mconvert\u001b[49m\u001b[38;5;241;43m=\u001b[39;49m\u001b[38;5;28;43mself\u001b[39;49m\u001b[38;5;241;43m.\u001b[39;49m\u001b[43mconvert_dtype\u001b[49m\n\u001b[1;32m   1509\u001b[0m \u001b[43m\u001b[49m\u001b[43m)\u001b[49m\n\u001b[1;32m   1511\u001b[0m \u001b[38;5;28;01mif\u001b[39;00m \u001b[38;5;28mlen\u001b[39m(mapped) \u001b[38;5;129;01mand\u001b[39;00m \u001b[38;5;28misinstance\u001b[39m(mapped[\u001b[38;5;241m0\u001b[39m], ABCSeries):\n\u001b[1;32m   1512\u001b[0m     \u001b[38;5;66;03m# GH#43986 Need to do list(mapped) in order to get treated as nested\u001b[39;00m\n\u001b[1;32m   1513\u001b[0m     \u001b[38;5;66;03m#  See also GH#25959 regarding EA support\u001b[39;00m\n\u001b[1;32m   1514\u001b[0m     \u001b[38;5;28;01mreturn\u001b[39;00m obj\u001b[38;5;241m.\u001b[39m_constructor_expanddim(\u001b[38;5;28mlist\u001b[39m(mapped), index\u001b[38;5;241m=\u001b[39mobj\u001b[38;5;241m.\u001b[39mindex)\n",
      "File \u001b[0;32m~/Workspace/Learning/ml_zoomcamp/.venv/lib/python3.13/site-packages/pandas/core/base.py:921\u001b[0m, in \u001b[0;36mIndexOpsMixin._map_values\u001b[0;34m(self, mapper, na_action, convert)\u001b[0m\n\u001b[1;32m    918\u001b[0m \u001b[38;5;28;01mif\u001b[39;00m \u001b[38;5;28misinstance\u001b[39m(arr, ExtensionArray):\n\u001b[1;32m    919\u001b[0m     \u001b[38;5;28;01mreturn\u001b[39;00m arr\u001b[38;5;241m.\u001b[39mmap(mapper, na_action\u001b[38;5;241m=\u001b[39mna_action)\n\u001b[0;32m--> 921\u001b[0m \u001b[38;5;28;01mreturn\u001b[39;00m \u001b[43malgorithms\u001b[49m\u001b[38;5;241;43m.\u001b[39;49m\u001b[43mmap_array\u001b[49m\u001b[43m(\u001b[49m\u001b[43marr\u001b[49m\u001b[43m,\u001b[49m\u001b[43m \u001b[49m\u001b[43mmapper\u001b[49m\u001b[43m,\u001b[49m\u001b[43m \u001b[49m\u001b[43mna_action\u001b[49m\u001b[38;5;241;43m=\u001b[39;49m\u001b[43mna_action\u001b[49m\u001b[43m,\u001b[49m\u001b[43m \u001b[49m\u001b[43mconvert\u001b[49m\u001b[38;5;241;43m=\u001b[39;49m\u001b[43mconvert\u001b[49m\u001b[43m)\u001b[49m\n",
      "File \u001b[0;32m~/Workspace/Learning/ml_zoomcamp/.venv/lib/python3.13/site-packages/pandas/core/algorithms.py:1743\u001b[0m, in \u001b[0;36mmap_array\u001b[0;34m(arr, mapper, na_action, convert)\u001b[0m\n\u001b[1;32m   1741\u001b[0m values \u001b[38;5;241m=\u001b[39m arr\u001b[38;5;241m.\u001b[39mastype(\u001b[38;5;28mobject\u001b[39m, copy\u001b[38;5;241m=\u001b[39m\u001b[38;5;28;01mFalse\u001b[39;00m)\n\u001b[1;32m   1742\u001b[0m \u001b[38;5;28;01mif\u001b[39;00m na_action \u001b[38;5;129;01mis\u001b[39;00m \u001b[38;5;28;01mNone\u001b[39;00m:\n\u001b[0;32m-> 1743\u001b[0m     \u001b[38;5;28;01mreturn\u001b[39;00m \u001b[43mlib\u001b[49m\u001b[38;5;241;43m.\u001b[39;49m\u001b[43mmap_infer\u001b[49m\u001b[43m(\u001b[49m\u001b[43mvalues\u001b[49m\u001b[43m,\u001b[49m\u001b[43m \u001b[49m\u001b[43mmapper\u001b[49m\u001b[43m,\u001b[49m\u001b[43m \u001b[49m\u001b[43mconvert\u001b[49m\u001b[38;5;241;43m=\u001b[39;49m\u001b[43mconvert\u001b[49m\u001b[43m)\u001b[49m\n\u001b[1;32m   1744\u001b[0m \u001b[38;5;28;01melse\u001b[39;00m:\n\u001b[1;32m   1745\u001b[0m     \u001b[38;5;28;01mreturn\u001b[39;00m lib\u001b[38;5;241m.\u001b[39mmap_infer_mask(\n\u001b[1;32m   1746\u001b[0m         values, mapper, mask\u001b[38;5;241m=\u001b[39misna(values)\u001b[38;5;241m.\u001b[39mview(np\u001b[38;5;241m.\u001b[39muint8), convert\u001b[38;5;241m=\u001b[39mconvert\n\u001b[1;32m   1747\u001b[0m     )\n",
      "File \u001b[0;32mlib.pyx:2972\u001b[0m, in \u001b[0;36mpandas._libs.lib.map_infer\u001b[0;34m()\u001b[0m\n",
      "Cell \u001b[0;32mIn[2], line 15\u001b[0m, in \u001b[0;36mread_pickle.<locals>.<lambda>\u001b[0;34m(x)\u001b[0m\n\u001b[1;32m     12\u001b[0m df_games \u001b[38;5;241m=\u001b[39m pd\u001b[38;5;241m.\u001b[39mread_pickle(file_path)\n\u001b[1;32m     14\u001b[0m df_games[\u001b[38;5;124m'\u001b[39m\u001b[38;5;124mleague\u001b[39m\u001b[38;5;124m'\u001b[39m] \u001b[38;5;241m=\u001b[39m df_games[\u001b[38;5;124m'\u001b[39m\u001b[38;5;124mStage\u001b[39m\u001b[38;5;124m'\u001b[39m]\u001b[38;5;241m.\u001b[39mapply(\u001b[38;5;28;01mlambda\u001b[39;00m x: x\u001b[38;5;241m.\u001b[39msplit(\u001b[38;5;124m'\u001b[39m\u001b[38;5;124m(\u001b[39m\u001b[38;5;124m'\u001b[39m)[\u001b[38;5;241m0\u001b[39m])\n\u001b[0;32m---> 15\u001b[0m df_games[\u001b[38;5;124m'\u001b[39m\u001b[38;5;124mmatchweek\u001b[39m\u001b[38;5;124m'\u001b[39m] \u001b[38;5;241m=\u001b[39m df_games[\u001b[38;5;124m'\u001b[39m\u001b[38;5;124mStage\u001b[39m\u001b[38;5;124m'\u001b[39m]\u001b[38;5;241m.\u001b[39mapply(\u001b[38;5;28;01mlambda\u001b[39;00m x: \u001b[38;5;28;43mint\u001b[39;49m\u001b[43m(\u001b[49m\u001b[43mx\u001b[49m\u001b[38;5;241;43m.\u001b[39;49m\u001b[43msplit\u001b[49m\u001b[43m(\u001b[49m\u001b[38;5;124;43m'\u001b[39;49m\u001b[38;5;124;43m(\u001b[39;49m\u001b[38;5;124;43m'\u001b[39;49m\u001b[43m)\u001b[49m\u001b[43m[\u001b[49m\u001b[38;5;241;43m1\u001b[39;49m\u001b[43m]\u001b[49m\u001b[38;5;241;43m.\u001b[39;49m\u001b[43msplit\u001b[49m\u001b[43m(\u001b[49m\u001b[38;5;124;43m'\u001b[39;49m\u001b[38;5;124;43m \u001b[39;49m\u001b[38;5;124;43m'\u001b[39;49m\u001b[43m)\u001b[49m\u001b[43m[\u001b[49m\u001b[38;5;241;43m1\u001b[39;49m\u001b[43m]\u001b[49m\u001b[38;5;241;43m.\u001b[39;49m\u001b[43mreplace\u001b[49m\u001b[43m(\u001b[49m\u001b[38;5;124;43m'\u001b[39;49m\u001b[38;5;124;43m)\u001b[39;49m\u001b[38;5;124;43m'\u001b[39;49m\u001b[43m,\u001b[49m\u001b[43m \u001b[49m\u001b[38;5;124;43m'\u001b[39;49m\u001b[38;5;124;43m'\u001b[39;49m\u001b[43m)\u001b[49m\u001b[43m)\u001b[49m)\n\u001b[1;32m     16\u001b[0m df_games\u001b[38;5;241m.\u001b[39mdrop(columns\u001b[38;5;241m=\u001b[39m[\u001b[38;5;124m'\u001b[39m\u001b[38;5;124mStage\u001b[39m\u001b[38;5;124m'\u001b[39m], inplace\u001b[38;5;241m=\u001b[39m\u001b[38;5;28;01mTrue\u001b[39;00m)\n\u001b[1;32m     18\u001b[0m df_games\u001b[38;5;241m.\u001b[39mcolumns \u001b[38;5;241m=\u001b[39m df_games\u001b[38;5;241m.\u001b[39mcolumns\u001b[38;5;241m.\u001b[39mstr\u001b[38;5;241m.\u001b[39mstrip()\u001b[38;5;241m.\u001b[39mstr\u001b[38;5;241m.\u001b[39mlower()\u001b[38;5;241m.\u001b[39mstr\u001b[38;5;241m.\u001b[39mreplace(\u001b[38;5;124m'\u001b[39m\u001b[38;5;124m \u001b[39m\u001b[38;5;124m'\u001b[39m, \u001b[38;5;124m'\u001b[39m\u001b[38;5;124m_\u001b[39m\u001b[38;5;124m'\u001b[39m)\n",
      "\u001b[0;31mValueError\u001b[0m: invalid literal for int() with base 10: 'tie-breaker'"
     ]
    }
   ],
   "source": [
    "fbref_scraper = sfc.FBref()\n",
    "seasons = ['2024-2025', '2023-2024', '2022-2023']\n",
    "leagues = ['EPL', 'Ligue 1', 'La Liga', 'Serie A', 'Bundesliga']\n",
    "\n",
    "for league in leagues:\n",
    "    for season in seasons:\n",
    "        pkl_path = f'../data/pkl/{league.replace(' ', '_')}_{season}.pkl'\n",
    "        csv_path = f'../data/csv/{league.replace(' ', '_')}_{season}.csv'\n",
    "        \n",
    "        if os.path.isfile(csv_path):\n",
    "            continue\n",
    "        \n",
    "        print(f'--- Downloading {league} {season} ---')\n",
    "        df_games_dl = fbref_scraper.scrape_matches(season, league)\n",
    "        \n",
    "        df_games_dl.to_pickle(pkl_path)\n",
    "        print(f'{league} {season} saved !')\n",
    "        \n",
    "        df_teams = construct_db(pkl_path)\n",
    "        print(f'{league} {season} constructed !')\n",
    "        df_teams.to_csv(csv_path)\n",
    "        print(f'{league} {season} CSV saved !')"
   ]
  },
  {
   "cell_type": "code",
   "execution_count": null,
   "metadata": {},
   "outputs": [],
   "source": [
    "df_leagues = pd.DataFrame()\n",
    "\n",
    "for league in leagues:\n",
    "    for season in seasons:\n",
    "        csv_path = f'../data/csv/{league.replace(' ', '_')}_{season}.csv'\n",
    "        df_current_league = pd.read_csv(csv_path)\n",
    "        print(f'{league} {season} read - {len(df_current_league)} lines !')\n",
    "\n",
    "        if df_leagues.empty:\n",
    "            df_leagues = df_current_league\n",
    "            print(f'Dataframe League creted !')\n",
    "            print(len(df_leagues))\n",
    "        else:\n",
    "            df_leagues = pd.concat([df_leagues, df_current_league], axis=0)\n",
    "            print(f'{league} {season} concat !')\n",
    "            print(len(df_leagues))\n",
    "\n",
    "df_leagues = df_leagues.loc[:, ~df_leagues.columns.str.contains('^Unnamed')]\n",
    "df_leagues.to_csv('../data/csv/Leagues.csv')"
   ]
  },
  {
   "cell_type": "code",
   "execution_count": null,
   "metadata": {},
   "outputs": [],
   "source": []
  }
 ],
 "metadata": {
  "kernelspec": {
   "display_name": ".venv",
   "language": "python",
   "name": "python3"
  },
  "language_info": {
   "codemirror_mode": {
    "name": "ipython",
    "version": 3
   },
   "file_extension": ".py",
   "mimetype": "text/x-python",
   "name": "python",
   "nbconvert_exporter": "python",
   "pygments_lexer": "ipython3",
   "version": "3.13.0"
  }
 },
 "nbformat": 4,
 "nbformat_minor": 2
}
