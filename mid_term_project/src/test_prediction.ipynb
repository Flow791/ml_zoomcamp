{
 "cells": [
  {
   "cell_type": "code",
   "execution_count": 8,
   "metadata": {},
   "outputs": [],
   "source": [
    "import pickle\n",
    "import requests"
   ]
  },
  {
   "cell_type": "code",
   "execution_count": null,
   "metadata": {},
   "outputs": [
    {
     "name": "stdout",
     "output_type": "stream",
     "text": [
      "\u001b[1A\u001b[1B\u001b[0G\u001b[?25l[+] Building 0.0s (0/0)                                    docker:desktop-linux\n",
      "\u001b[?25hERROR: resolve : lstat env: no such file or directory\n",
      "[2024-11-25 19:12:41 +0000] [1] [INFO] Starting gunicorn 23.0.0\n",
      "[2024-11-25 19:12:41 +0000] [1] [INFO] Listening at: http://0.0.0.0:9696 (1)\n",
      "[2024-11-25 19:12:41 +0000] [1] [INFO] Using worker: sync\n",
      "[2024-11-25 19:12:41 +0000] [7] [INFO] Booting worker with pid: 7\n",
      "^C\n",
      "[2024-11-25 19:12:59 +0000] [1] [INFO] Handling signal: int\n",
      "[2024-11-25 19:12:59 +0000] [7] [INFO] Worker exiting (pid: 7)\n"
     ]
    }
   ],
   "source": [
    "#!docker build -f env/Dockerfile -t mid_term_project .\n",
    "#!docker run -it --rm -p 9696:9696 mid_term_project"
   ]
  },
  {
   "cell_type": "code",
   "execution_count": null,
   "metadata": {},
   "outputs": [],
   "source": [
    "#'{\"league\":\"Premier League \",\"home_goals\":1,\"away_goals\":0,\"home_team_form\":0,\"home_team_league_pos\":1.0,\"home_team_points_diff\":0,\"home_team_home_form\":0,\"home_team_home_league_pos\":1.0,\"home_team_home_points_diff\":0,\"home_team_average_goals_form\":0.0,\"home_team_average_xg_form\":0.0,\"home_team_average_goals_form_against\":0.0,\"home_team_average_xg_form_against\":0.0,\"away_team_form\":0,\"away_team_league_pos\":1.0,\"away_team_points_diff\":0,\"away_team_away_form\":0,\"away_team_away_league_pos\":1.0,\"away_team_away_points_diff\":0,\"away_team_average_goals_form\":0.0,\"away_team_average_xg_form\":0.0,\"away_team_average_goals_form_against\":0.0,\"away_team_average_xg_form_against\":0.0}\\n{\"league\":\"Premier League \",\"home_goals\":1,\"away_goals\":3,\"home_team_form\":8,\"home_team_league_pos\":14.0,\"home_team_points_diff\":6,\"home_team_home_form\":4,\"home_team_home_league_pos\":15.0,\"home_team_home_points_diff\":5,\"home_team_average_goals_form\":1.0,\"home_team_average_xg_form\":0.6333333333,\"home_team_average_goals_form_against\":1.0,\"home_team_average_xg_form_against\":1.5333333333,\"away_team_form\":8,\"away_team_league_pos\":7.0,\"away_team_points_diff\":-2,\"away_team_away_form\":5,\"away_team_away_league_pos\":2.0,\"away_team_away_points_diff\":2,\"away_team_average_goals_form\":1.0,\"away_team_average_xg_form\":0.6333333333,\"away_team_average_goals_form_against\":1.0,\"away_team_average_xg_form_against\":1.5333333333}\\n{\"league\":\"Premier League \",\"home_goals\":1,\"away_goals\":1,\"home_team_form\":0,\"home_team_league_pos\":1.0,\"home_team_points_diff\":0,\"home_team_home_form\":0,\"home_team_home_league_pos\":1.0,\"home_team_home_points_diff\":0,\"home_team_average_goals_form\":0.0,\"home_team_average_xg_form\":0.0,\"home_team_average_goals_form_against\":0.0,\"home_team_average_xg_form_against\":0.0,\"away_team_form\":0,\"away_team_league_pos\":1.0,\"away_team_points_diff\":0,\"away_team_away_form\":0,\"away_team_away_league_pos\":1.0,\"away_team_away_points_diff\":0,\"away_team_average_goals_form\":0.0,\"away_team_average_xg_form\":0.0,\"away_team_average_goals_form_against\":0.0,\"away_team_average_xg_form_against\":0.0}\\n'"
   ]
  },
  {
   "cell_type": "code",
   "execution_count": null,
   "metadata": {},
   "outputs": [],
   "source": [
    "url = 'http://localhost:9696/predict_home'\n",
    "game = {\n",
    "    \"league\":\"Premier League \",\n",
    "    \"home_team_form\":0,\n",
    "    \"home_team_league_pos\":1.0,\n",
    "    \"home_team_points_diff\":0,\n",
    "    \"home_team_home_form\":0,\n",
    "    \"home_team_home_league_pos\":1.0,\n",
    "    \"home_team_home_points_diff\":0,\n",
    "    \"home_team_average_goals_form\":0.0,\n",
    "    \"home_team_average_xg_form\":0.0,\n",
    "    \"home_team_average_goals_form_against\":0.0,\n",
    "    \"home_team_average_xg_form_against\":0.0,\n",
    "    \"away_team_form\":0,\n",
    "    \"away_team_league_pos\":1.0,\n",
    "    \"away_team_points_diff\":0,\n",
    "    \"away_team_away_form\":0,\n",
    "    \"away_team_away_league_pos\":1.0,\n",
    "    \"away_team_away_points_diff\":0,\n",
    "    \"away_team_average_goals_form\":0.0,\n",
    "    \"away_team_average_xg_form\":0.0,\n",
    "    \"away_team_average_goals_form_against\":0.0,\n",
    "    \"away_team_average_xg_form_against\":0.0\n",
    "    }"
   ]
  },
  {
   "cell_type": "code",
   "execution_count": null,
   "metadata": {},
   "outputs": [
    {
     "data": {
      "text/plain": [
       "{'get_home_win_draw': True, 'get_home_win_draw_proba': 0.578}"
      ]
     },
     "execution_count": 7,
     "metadata": {},
     "output_type": "execute_result"
    }
   ],
   "source": [
    "response = requests.post(url, json=game).json()\n",
    "response"
   ]
  },
  {
   "cell_type": "code",
   "execution_count": null,
   "metadata": {},
   "outputs": [],
   "source": []
  }
 ],
 "metadata": {
  "kernelspec": {
   "display_name": ".venv",
   "language": "python",
   "name": "python3"
  },
  "language_info": {
   "codemirror_mode": {
    "name": "ipython",
    "version": 3
   },
   "file_extension": ".py",
   "mimetype": "text/x-python",
   "name": "python",
   "nbconvert_exporter": "python",
   "pygments_lexer": "ipython3",
   "version": "3.13.0"
  }
 },
 "nbformat": 4,
 "nbformat_minor": 2
}
