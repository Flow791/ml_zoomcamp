{
 "cells": [
  {
   "cell_type": "code",
   "execution_count": null,
   "metadata": {},
   "outputs": [],
   "source": [
    "import pandas as pd\n",
    "import numpy as np\n",
    "import matplotlib.pyplot as plt\n",
    "import seaborn as sns\n",
    "from tqdm.auto import tqdm \n",
    "from sklearn.model_selection import train_test_split\n",
    "from sklearn.feature_extraction import DictVectorizer\n",
    "from sklearn.linear_model import LogisticRegression\n",
    "from sklearn.model_selection import KFold\n",
    "from sklearn.metrics import accuracy_score\n",
    "from sklearn.metrics import roc_auc_score\n",
    "from sklearn.metrics import auc\n",
    "\n",
    "df = pd.read_csv('../data/bank-full.csv', sep=';')\n",
    "df = df[['age', 'job', 'marital', 'education', 'balance', 'housing', 'contact', 'day', 'month', 'duration', 'campaign', 'pdays', 'previous', 'poutcome', 'y']]\n",
    "\n",
    "numerical = ['age', 'balance', 'day', 'duration', 'campaign', 'pdays', 'previous']\n",
    "categorical = ['job', 'marital', 'education', 'housing', 'contact', 'month', 'poutcome']\n",
    "\n",
    "y = df.y.map({'no': 0, 'yes': 1}).astype(int)\n",
    "X = df.drop('y', axis=1)\n",
    "dict_vectorizer = DictVectorizer(sparse=False)\n",
    "\n",
    "def get_splitted_df():\n",
    "    df_train_full, df_test, y_train_full, y_test = train_test_split(X, y, test_size=0.2, random_state=1)\n",
    "    df_train, df_val, y_train, y_val = train_test_split(df_train_full, y_train_full, test_size=len(X) * 0.2 / len(df_train_full), random_state=1)\n",
    "    \n",
    "    return df_train_full, df_train, df_val, df_test, y_train_full, y_train, y_val, y_test\n",
    "\n",
    "def get_trained_model(train_serie: pd.Series, y_train: pd.Series, reg: float = 1.0):\n",
    "    train_serie_dict = train_serie.to_dict(orient='records')\n",
    "    X_train = dict_vectorizer.fit_transform(train_serie_dict)\n",
    "    \n",
    "    model = LogisticRegression(solver='liblinear', C=reg, max_iter=1000)\n",
    "    model.fit(X_train, y_train)\n",
    "    \n",
    "    return model\n",
    "\n",
    "def predict_model(tmp_model, serie: pd.DataFrame):    \n",
    "    serie_dict = serie.to_dict(orient='records')\n",
    "    X_serie = dict_vectorizer.fit_transform(serie_dict)\n",
    "\n",
    "    y_predict = tmp_model.predict_proba(X_serie)[:, 1]\n",
    "    \n",
    "    return y_predict\n",
    "\n",
    "df_train_full, df_train, df_val, df_test, y_train_full, y_train, y_val, y_test = get_splitted_df()\n",
    "\n",
    "model = get_trained_model(df_train, y_train)"
   ]
  },
  {
   "cell_type": "markdown",
   "metadata": {},
   "source": [
    "### Question 1"
   ]
  },
  {
   "cell_type": "code",
   "execution_count": 28,
   "metadata": {},
   "outputs": [
    {
     "data": {
      "text/plain": [
       "{'duration': 0.8146942424632446,\n",
       " 'previous': 0.5985621197852585,\n",
       " 'pdays': 0.5901240684387066,\n",
       " 'balance': 0.588819759177242,\n",
       " 'campaign': 0.5714526215503108,\n",
       " 'day': 0.5259654358875353,\n",
       " 'age': 0.5121718893992577}"
      ]
     },
     "execution_count": 28,
     "metadata": {},
     "output_type": "execute_result"
    }
   ],
   "source": [
    "aucs = {}\n",
    "for col in numerical:\n",
    "    auc = roc_auc_score(y_train, df_train[col])\n",
    "    if auc < 0.5:\n",
    "        auc = roc_auc_score(y_train, -df_train[col])\n",
    "    \n",
    "    aucs[col] = auc\n",
    "    \n",
    "aucs = dict(sorted(aucs.items(), key=lambda item: item[1], reverse=True))\n",
    "aucs\n"
   ]
  },
  {
   "cell_type": "markdown",
   "metadata": {},
   "source": [
    "### Qurestion 2"
   ]
  },
  {
   "cell_type": "code",
   "execution_count": 34,
   "metadata": {},
   "outputs": [
    {
     "data": {
      "text/plain": [
       "0.652"
      ]
     },
     "execution_count": 34,
     "metadata": {},
     "output_type": "execute_result"
    }
   ],
   "source": [
    "y_predict = predict_model(model, df_val)\n",
    "y_val_pred = (y_predict > 0.5).astype(int)\n",
    "\n",
    "auc = roc_auc_score(y_val, y_val_pred)\n",
    "round(auc, 3)\n"
   ]
  },
  {
   "cell_type": "markdown",
   "metadata": {},
   "source": [
    "### Question 3"
   ]
  },
  {
   "cell_type": "code",
   "execution_count": 42,
   "metadata": {},
   "outputs": [
    {
     "name": "stderr",
     "output_type": "stream",
     "text": [
      "/var/folders/x9/t16jfwq91z735wm10ntxvh780000gq/T/ipykernel_2372/2433494807.py:27: FutureWarning: The behavior of DataFrame concatenation with empty or all-NA entries is deprecated. In a future version, this will no longer exclude empty or all-NA columns when determining the result dtypes. To retain the old behavior, exclude the relevant entries before the concat operation.\n",
      "  df_prec_recall = pd.concat([df_prec_recall, df_temp], ignore_index=True)\n"
     ]
    },
    {
     "data": {
      "text/plain": [
       "[<matplotlib.lines.Line2D at 0x3010c7d00>]"
      ]
     },
     "execution_count": 42,
     "metadata": {},
     "output_type": "execute_result"
    },
    {
     "data": {
      "image/png": "[encoded data removed]",
      "text/plain": [
       "<Figure size 640x480 with 1 Axes>"
      ]
     },
     "metadata": {},
     "output_type": "display_data"
    }
   ],
   "source": [
    "df_prec_recall = pd.DataFrame(columns={'threshold': [], 'precision': [], 'recall': []}) \n",
    "\n",
    "def get_precision_recall(y_predict, y_val, threshold):\n",
    "    y_val_pred = (y_predict > threshold).astype(int)\n",
    "\n",
    "    real_positive = (y_val == 1)\n",
    "    real_negative = (y_val == 0)\n",
    "\n",
    "    predicted_positive = (y_val_pred == 1)\n",
    "    predicted_negative = (y_val_pred == 0)\n",
    "\n",
    "    tp = (real_positive & predicted_positive).sum()\n",
    "    tn = (real_negative & predicted_negative).sum()\n",
    "    fp = (real_negative & predicted_positive).sum()\n",
    "    fn = (real_positive & predicted_negative).sum()\n",
    "\n",
    "    precision = tp / (tp + fp) if (tp + fp) > 0 else 0    \n",
    "    recall = tp / (tp + fn) if (tp + fn) > 0 else 0\n",
    "    f1_score = 2 * precision * recall / (precision + recall) if (precision + recall) > 0 else 0\n",
    "\n",
    "    return precision, recall, f1_score\n",
    "\n",
    "for threshold in np.linspace(0, 1, 101):\n",
    "    precision, recall, f1_score = get_precision_recall(y_predict, y_val, threshold)\n",
    "    \n",
    "    df_temp = pd.DataFrame({'threshold': [threshold], 'precision': [precision], 'recall': [recall]})\n",
    "    df_prec_recall = pd.concat([df_prec_recall, df_temp], ignore_index=True)\n",
    "\n",
    "plt.plot(df_prec_recall.threshold, df_prec_recall.precision, label='precision')\n",
    "plt.plot(df_prec_recall.threshold, df_prec_recall.recall, label='recall')\n"
   ]
  },
  {
   "cell_type": "markdown",
   "metadata": {},
   "source": [
    "### Question 4"
   ]
  },
  {
   "cell_type": "code",
   "execution_count": 53,
   "metadata": {},
   "outputs": [
    {
     "data": {
      "text/plain": [
       "{0.22: 0.5713087248322147,\n",
       " 0.21: 0.5686194182712003,\n",
       " 0.19: 0.56796875,\n",
       " 0.2: 0.5667334669338677,\n",
       " 0.23: 0.5660538691748611,\n",
       " 0.18: 0.5659655831739961,\n",
       " 0.24: 0.5656918376254911,\n",
       " 0.25: 0.5643079661771252,\n",
       " 0.16: 0.5599425699928213,\n",
       " 0.17: 0.5592592592592592,\n",
       " 0.26: 0.5584356525693497,\n",
       " 0.15: 0.5568300312825859,\n",
       " 0.27: 0.5550945136007377,\n",
       " 0.14: 0.5521885521885522,\n",
       " 0.28: 0.5512400561534863,\n",
       " 0.13: 0.5471204188481675,\n",
       " 0.29: 0.5459742734635541,\n",
       " 0.3: 0.5406976744186046,\n",
       " 0.12: 0.5405236907730673,\n",
       " 0.31: 0.5392156862745098,\n",
       " 0.32: 0.5352532274081429,\n",
       " 0.11: 0.5312407462244596,\n",
       " 0.33: 0.5282828282828282,\n",
       " 0.1: 0.5242663656884876,\n",
       " 0.34: 0.5240532241555783,\n",
       " 0.35000000000000003: 0.5201654601861426,\n",
       " 0.36: 0.5136268343815513,\n",
       " 0.37: 0.5092838196286472,\n",
       " 0.38: 0.5088948787061995,\n",
       " 0.09: 0.5074866310160429,\n",
       " 0.39: 0.5032751091703056,\n",
       " 0.4: 0.501101321585903,\n",
       " 0.41000000000000003: 0.49609810479375704,\n",
       " 0.42: 0.49353569421023047,\n",
       " 0.08: 0.4896829391041772,\n",
       " 0.43: 0.48326715825297784,\n",
       " 0.44: 0.4773379231210556,\n",
       " 0.45: 0.47045191193511005,\n",
       " 0.46: 0.46522501461133847,\n",
       " 0.07: 0.4649000464900047,\n",
       " 0.47000000000000003: 0.46017699115044247,\n",
       " 0.48: 0.44922341696535245,\n",
       " 0.49: 0.4424352019288728,\n",
       " 0.06: 0.43844354667233676,\n",
       " 0.5: 0.4368932038834952,\n",
       " 0.51: 0.4339853300733496,\n",
       " 0.52: 0.42760320394331486,\n",
       " 0.53: 0.42092154420921546,\n",
       " 0.54: 0.4160401002506266,\n",
       " 0.55: 0.4078530715642812,\n",
       " 0.56: 0.4038338658146965,\n",
       " 0.5700000000000001: 0.4010282776349614,\n",
       " 0.05: 0.39840637450199207,\n",
       " 0.58: 0.394311570782159,\n",
       " 0.59: 0.3851174934725848,\n",
       " 0.6: 0.3789473684210527,\n",
       " 0.61: 0.3685961410512309,\n",
       " 0.62: 0.36265950302216254,\n",
       " 0.63: 0.35859269282814615,\n",
       " 0.04: 0.3553349875930521,\n",
       " 0.64: 0.34965986394557824,\n",
       " 0.65: 0.3469945355191257,\n",
       " 0.66: 0.3438356164383562,\n",
       " 0.67: 0.3351724137931034,\n",
       " 0.68: 0.3266157053509382,\n",
       " 0.6900000000000001: 0.3165266106442577,\n",
       " 0.03: 0.31101573676680977,\n",
       " 0.7000000000000001: 0.308885754583921,\n",
       " 0.71: 0.30156472261735423,\n",
       " 0.72: 0.297780959198282,\n",
       " 0.73: 0.29640287769784174,\n",
       " 0.74: 0.28363636363636363,\n",
       " 0.75: 0.27505486466715434,\n",
       " 0.02: 0.272398753894081,\n",
       " 0.76: 0.264792899408284,\n",
       " 0.77: 0.25763216679076695,\n",
       " 0.78: 0.24868913857677902,\n",
       " 0.01: 0.2364382969526691,\n",
       " 0.79: 0.2328042328042328,\n",
       " 0.8: 0.22307104660045837,\n",
       " 0.81: 0.21795855717574825,\n",
       " 0.0: 0.2165466916477665,\n",
       " 0.8200000000000001: 0.20743034055727552,\n",
       " 0.8300000000000001: 0.19984387197501952,\n",
       " 0.84: 0.18626677190213103,\n",
       " 0.85: 0.17398244213886674,\n",
       " 0.86: 0.15993537964458804,\n",
       " 0.87: 0.1530944625407166,\n",
       " 0.88: 0.1380443714050945,\n",
       " 0.89: 0.1275890637945319,\n",
       " 0.9: 0.11872909698996655,\n",
       " 0.91: 0.11101766190075694,\n",
       " 0.92: 0.09345794392523364,\n",
       " 0.93: 0.08061749571183534,\n",
       " 0.9400000000000001: 0.07241379310344827,\n",
       " 0.9500000000000001: 0.06753246753246751,\n",
       " 0.96: 0.05240174672489083,\n",
       " 0.97: 0.04397537379067722,\n",
       " 0.98: 0.03546099290780142,\n",
       " 0.99: 0.01618705035971223,\n",
       " 1.0: 0}"
      ]
     },
     "execution_count": 53,
     "metadata": {},
     "output_type": "execute_result"
    }
   ],
   "source": [
    "f1_scores = {}\n",
    "\n",
    "for threshold in np.linspace(0, 1, 101):\n",
    "    precision, recall, f1_score = get_precision_recall(y_predict, y_val, threshold)\n",
    "    f1_scores[threshold] = f1_score\n",
    "    \n",
    "f1_scores = dict(sorted(f1_scores.items(), key=lambda item: item[1], reverse=True))\n",
    "f1_scores"
   ]
  },
  {
   "cell_type": "markdown",
   "metadata": {},
   "source": [
    "### Question 5"
   ]
  },
  {
   "cell_type": "code",
   "execution_count": 67,
   "metadata": {},
   "outputs": [
    {
     "name": "stdout",
     "output_type": "stream",
     "text": [
      "std: 0.005 - mean: 0.906 - C: 1.0\n"
     ]
    },
    {
     "data": {
      "text/plain": [
       "(0.005, 0.906, 1.0)"
      ]
     },
     "execution_count": 67,
     "metadata": {},
     "output_type": "execute_result"
    }
   ],
   "source": [
    "def get_auc_scores(C: float = 1.0):\n",
    "    auc_scores = []\n",
    "    kfold = KFold(n_splits=5, shuffle=True, random_state=1)\n",
    "\n",
    "    for train_idx, val_idx in kfold.split(df_train_full):\n",
    "        df_train = df_train_full.iloc[train_idx]\n",
    "        df_val = df_train_full.iloc[val_idx]\n",
    "        \n",
    "        y_train = y_train_full.iloc[train_idx]\n",
    "        y_val = y_train_full.iloc[val_idx]\n",
    "        \n",
    "        model = get_trained_model(df_train, y_train, C)\n",
    "        y_predict = predict_model(model, df_val)\n",
    "        \n",
    "        auc = roc_auc_score(y_val, y_predict)\n",
    "        auc_scores.append(round(auc, 3))\n",
    "    \n",
    "    std_scores = round(np.std(auc_scores),3)\n",
    "    mean_scores = round(np.mean(auc_scores), 3)\n",
    "    print(f'std: {std_scores} - mean: {mean_scores} - C: {C}')\n",
    "    \n",
    "    return std_scores, mean_scores, C\n",
    "\n",
    "get_auc_scores()\n"
   ]
  },
  {
   "cell_type": "markdown",
   "metadata": {},
   "source": [
    "### Question 6"
   ]
  },
  {
   "cell_type": "code",
   "execution_count": 68,
   "metadata": {},
   "outputs": [
    {
     "name": "stdout",
     "output_type": "stream",
     "text": [
      "std: 0.009 - mean: 0.702 - C: 1e-06\n",
      "std: 0.007 - mean: 0.861 - C: 0.001\n",
      "std: 0.005 - mean: 0.906 - C: 1\n"
     ]
    }
   ],
   "source": [
    "for C in [0.000001, 0.001, 1]:\n",
    "    get_auc_scores(C)"
   ]
  },
  {
   "cell_type": "code",
   "execution_count": null,
   "metadata": {},
   "outputs": [],
   "source": []
  }
 ],
 "metadata": {
  "kernelspec": {
   "display_name": "Python 3",
   "language": "python",
   "name": "python3"
  },
  "language_info": {
   "codemirror_mode": {
    "name": "ipython",
    "version": 3
   },
   "file_extension": ".py",
   "mimetype": "text/x-python",
   "name": "python",
   "nbconvert_exporter": "python",
   "pygments_lexer": "ipython3",
   "version": "3.9.6"
  }
 },
 "nbformat": 4,
 "nbformat_minor": 2
}
