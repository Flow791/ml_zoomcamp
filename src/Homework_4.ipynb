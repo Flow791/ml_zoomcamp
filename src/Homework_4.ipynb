{
 "cells": [
  {
   "cell_type": "code",
   "execution_count": 12,
   "metadata": {},
   "outputs": [],
   "source": [
    "import pandas as pd\n",
    "import numpy as np\n",
    "import matplotlib.pyplot as plt\n",
    "import seaborn as sns\n",
    "from tqdm.auto import tqdm \n",
    "from sklearn.model_selection import train_test_split\n",
    "from sklearn.feature_extraction import DictVectorizer\n",
    "from sklearn.linear_model import LogisticRegression\n",
    "from sklearn.metrics import accuracy_score\n",
    "from sklearn.metrics import roc_auc_score\n",
    "from sklearn.metrics import auc\n",
    "\n",
    "df = pd.read_csv('../data/bank-full.csv', sep=';')\n",
    "df = df[['age', 'job', 'marital', 'education', 'balance', 'housing', 'contact', 'day', 'month', 'duration', 'campaign', 'pdays', 'previous', 'poutcome', 'y']]\n",
    "\n",
    "numerical = ['age', 'balance', 'day', 'duration', 'campaign', 'pdays', 'previous']\n",
    "categorical = ['job', 'marital', 'education', 'housing', 'contact', 'month', 'poutcome']\n",
    "\n",
    "y = df.y\n",
    "X = df.drop('y', axis=1)\n",
    "dict_vectorizer = DictVectorizer(sparse=False)\n",
    "\n",
    "def get_splitted_df():\n",
    "    df_train_full, df_test, y_train_full, y_test = train_test_split(X, y, test_size=0.2, random_state=1)\n",
    "    df_train, df_val, y_train, y_val = train_test_split(df_train_full, y_train_full, test_size=len(X) * 0.2 / len(df_train_full), random_state=1)\n",
    "    \n",
    "    return df_train, df_val, df_test, y_train, y_val, y_test\n",
    "\n",
    "def get_trained_model(train_serie: pd.Series, y_train: pd.Series, reg: float = 1.0):\n",
    "    train_serie_dict = train_serie.to_dict(orient='records')\n",
    "    X_train = dict_vectorizer.fit_transform(train_serie_dict)\n",
    "    \n",
    "    model = LogisticRegression(solver='liblinear', C=reg, max_iter=1000)\n",
    "    model.fit(X_train, y_train)\n",
    "    \n",
    "    return model\n",
    "\n",
    "def predict_model(tmp_model, serie: pd.DataFrame, threshold: float = 0.5):    \n",
    "    serie_dict = serie.to_dict(orient='records')\n",
    "    X_serie = dict_vectorizer.fit_transform(serie_dict)\n",
    "\n",
    "    y_predict = tmp_model.predict_proba(X_serie)[:, 1]\n",
    "    y_val = (y_predict > threshold).astype(int)\n",
    "    \n",
    "    return y_val\n",
    "\n",
    "df_train, df_val, df_test, y_train, y_val, y_test = get_splitted_df()\n",
    "\n",
    "model = get_trained_model(df_train, y_train)"
   ]
  },
  {
   "cell_type": "markdown",
   "metadata": {},
   "source": [
    "### Question 1"
   ]
  },
  {
   "cell_type": "code",
   "execution_count": 24,
   "metadata": {},
   "outputs": [
    {
     "data": {
      "text/plain": [
       "{'duration': 0.8146942424632446,\n",
       " 'previous': 0.5985621197852585,\n",
       " 'pdays': 0.5901240684387066,\n",
       " 'balance': 0.588819759177242,\n",
       " 'campaign': 0.5714526215503108,\n",
       " 'day': 0.5259654358875353,\n",
       " 'age': 0.5121718893992577}"
      ]
     },
     "execution_count": 24,
     "metadata": {},
     "output_type": "execute_result"
    }
   ],
   "source": [
    "aucs = {}\n",
    "for col in numerical:\n",
    "    auc = roc_auc_score(y_train, df_train[col])\n",
    "    if auc < 0.5:\n",
    "        auc = roc_auc_score(y_train, -df_train[col])\n",
    "    \n",
    "    aucs[col] = auc\n",
    "    \n",
    "aucs = dict(sorted(aucs.items(), key=lambda item: item[1], reverse=True))\n",
    "aucs\n"
   ]
  },
  {
   "cell_type": "markdown",
   "metadata": {},
   "source": [
    "### Qurestion 2"
   ]
  },
  {
   "cell_type": "code",
   "execution_count": 25,
   "metadata": {},
   "outputs": [
    {
     "data": {
      "text/plain": [
       "0.652"
      ]
     },
     "execution_count": 25,
     "metadata": {},
     "output_type": "execute_result"
    }
   ],
   "source": [
    "y_val_pred = predict_model(model, df_val)\n",
    "auc = roc_auc_score(y_val, y_val_pred)\n",
    "round(auc, 3)\n"
   ]
  },
  {
   "cell_type": "markdown",
   "metadata": {},
   "source": [
    "### Question 3"
   ]
  },
  {
   "cell_type": "code",
   "execution_count": null,
   "metadata": {},
   "outputs": [],
   "source": []
  },
  {
   "cell_type": "markdown",
   "metadata": {},
   "source": [
    "### Question 4"
   ]
  },
  {
   "cell_type": "code",
   "execution_count": null,
   "metadata": {},
   "outputs": [],
   "source": []
  },
  {
   "cell_type": "markdown",
   "metadata": {},
   "source": [
    "### Question 5"
   ]
  },
  {
   "cell_type": "code",
   "execution_count": null,
   "metadata": {},
   "outputs": [],
   "source": []
  },
  {
   "cell_type": "markdown",
   "metadata": {},
   "source": [
    "### Question 6"
   ]
  },
  {
   "cell_type": "code",
   "execution_count": null,
   "metadata": {},
   "outputs": [],
   "source": []
  }
 ],
 "metadata": {
  "kernelspec": {
   "display_name": "Python 3",
   "language": "python",
   "name": "python3"
  },
  "language_info": {
   "codemirror_mode": {
    "name": "ipython",
    "version": 3
   },
   "file_extension": ".py",
   "mimetype": "text/x-python",
   "name": "python",
   "nbconvert_exporter": "python",
   "pygments_lexer": "ipython3",
   "version": "3.9.6"
  }
 },
 "nbformat": 4,
 "nbformat_minor": 2
}
