{
 "cells": [
  {
   "cell_type": "code",
   "execution_count": 1,
   "id": "86f6965e-9f68-40ec-a055-a14c86565e14",
   "metadata": {
    "execution": {
     "iopub.execute_input": "2024-12-01T10:37:38.438744Z",
     "iopub.status.busy": "2024-12-01T10:37:38.438419Z",
     "iopub.status.idle": "2024-12-01T10:37:38.442053Z",
     "shell.execute_reply": "2024-12-01T10:37:38.441353Z",
     "shell.execute_reply.started": "2024-12-01T10:37:38.438721Z"
    }
   },
   "outputs": [],
   "source": [
    "#!wget https://github.com/SVizor42/ML_Zoomcamp/releases/download/straight-curly-data/data.zip\n",
    "#!unzip data.zip -d ../data\n",
    "#! rm -rf data.zip"
   ]
  },
  {
   "cell_type": "code",
   "execution_count": 39,
   "id": "8207df02-86f2-40af-a3fc-567d7973d391",
   "metadata": {
    "execution": {
     "iopub.execute_input": "2024-12-01T11:51:19.253809Z",
     "iopub.status.busy": "2024-12-01T11:51:19.253306Z",
     "iopub.status.idle": "2024-12-01T11:51:19.260318Z",
     "shell.execute_reply": "2024-12-01T11:51:19.259591Z",
     "shell.execute_reply.started": "2024-12-01T11:51:19.253783Z"
    }
   },
   "outputs": [],
   "source": [
    "import numpy as np\n",
    "import tensorflow as tf\n",
    "from tensorflow.keras.models import Sequential\n",
    "from tensorflow.keras.layers import Conv2D, MaxPooling2D, Flatten, Dense\n",
    "from tensorflow.keras.optimizers import SGD\n",
    "from tensorflow.keras.preprocessing.image import ImageDataGenerator\n",
    "\n",
    "from tensorflow.keras.losses import BinaryCrossentropy\n",
    "from tensorflow.keras.applications.xception import Xception\n",
    "from tensorflow.keras.applications.xception import preprocess_input\n",
    "from tensorflow.keras.applications.xception import decode_predictions\n",
    "\n",
    "SEED = 42\n",
    "np.random.seed(SEED)\n",
    "tf.random.set_seed(SEED)"
   ]
  },
  {
   "cell_type": "code",
   "execution_count": 31,
   "id": "ec5cd7ee-1cb4-44d8-afe2-cbcc566b9266",
   "metadata": {
    "execution": {
     "iopub.execute_input": "2024-12-01T11:45:09.455105Z",
     "iopub.status.busy": "2024-12-01T11:45:09.454728Z",
     "iopub.status.idle": "2024-12-01T11:45:09.458080Z",
     "shell.execute_reply": "2024-12-01T11:45:09.457346Z",
     "shell.execute_reply.started": "2024-12-01T11:45:09.455082Z"
    }
   },
   "outputs": [],
   "source": [
    "### Question 2"
   ]
  },
  {
   "cell_type": "code",
   "execution_count": 20,
   "id": "b17a4b10-b155-47ba-90d2-10ed0d24076e",
   "metadata": {
    "execution": {
     "iopub.execute_input": "2024-12-01T11:24:01.470515Z",
     "iopub.status.busy": "2024-12-01T11:24:01.470169Z",
     "iopub.status.idle": "2024-12-01T11:24:01.505289Z",
     "shell.execute_reply": "2024-12-01T11:24:01.504789Z",
     "shell.execute_reply.started": "2024-12-01T11:24:01.470493Z"
    }
   },
   "outputs": [
    {
     "name": "stdout",
     "output_type": "stream",
     "text": [
      "Found 800 images belonging to 2 classes.\n",
      "Found 201 images belonging to 2 classes.\n"
     ]
    }
   ],
   "source": [
    "train_gen = ImageDataGenerator(preprocessing_function=preprocess_input)\n",
    "\n",
    "train_ds = train_gen.flow_from_directory(\n",
    "    '../data/data/train',\n",
    "    target_size=(200, 200),\n",
    "    batch_size=32\n",
    ")\n",
    "\n",
    "test_gen = ImageDataGenerator(preprocessing_function=preprocess_input)\n",
    "\n",
    "test_ds = test_gen.flow_from_directory(\n",
    "    '../data/data/test',\n",
    "    target_size=(200, 200),\n",
    "    batch_size=32,\n",
    "    shuffle=False\n",
    ")"
   ]
  },
  {
   "cell_type": "code",
   "execution_count": 35,
   "id": "f7d9b175-947f-4614-9ad8-d63dc06b1c24",
   "metadata": {
    "execution": {
     "iopub.execute_input": "2024-12-01T11:50:18.736189Z",
     "iopub.status.busy": "2024-12-01T11:50:18.735853Z",
     "iopub.status.idle": "2024-12-01T11:50:18.795153Z",
     "shell.execute_reply": "2024-12-01T11:50:18.794577Z",
     "shell.execute_reply.started": "2024-12-01T11:50:18.736168Z"
    }
   },
   "outputs": [
    {
     "name": "stderr",
     "output_type": "stream",
     "text": [
      "/opt/saturncloud/envs/saturn/lib/python3.12/site-packages/keras/src/layers/convolutional/base_conv.py:107: UserWarning: Do not pass an `input_shape`/`input_dim` argument to a layer. When using Sequential models, prefer using an `Input(shape)` object as the first layer in the model instead.\n",
      "  super().__init__(activity_regularizer=activity_regularizer, **kwargs)\n"
     ]
    },
    {
     "data": {
      "text/html": [
       "<pre style=\"white-space:pre;overflow-x:auto;line-height:normal;font-family:Menlo,'DejaVu Sans Mono',consolas,'Courier New',monospace\"><span style=\"font-weight: bold\">Model: \"sequential_4\"</span>\n",
       "</pre>\n"
      ],
      "text/plain": [
       "\u001b[1mModel: \"sequential_4\"\u001b[0m\n"
      ]
     },
     "metadata": {},
     "output_type": "display_data"
    },
    {
     "data": {
      "text/html": [
       "<pre style=\"white-space:pre;overflow-x:auto;line-height:normal;font-family:Menlo,'DejaVu Sans Mono',consolas,'Courier New',monospace\">┏━━━━━━━━━━━━━━━━━━━━━━━━━━━━━━━━━┳━━━━━━━━━━━━━━━━━━━━━━━━┳━━━━━━━━━━━━━━━┓\n",
       "┃<span style=\"font-weight: bold\"> Layer (type)                    </span>┃<span style=\"font-weight: bold\"> Output Shape           </span>┃<span style=\"font-weight: bold\">       Param # </span>┃\n",
       "┡━━━━━━━━━━━━━━━━━━━━━━━━━━━━━━━━━╇━━━━━━━━━━━━━━━━━━━━━━━━╇━━━━━━━━━━━━━━━┩\n",
       "│ conv2d_5 (<span style=\"color: #0087ff; text-decoration-color: #0087ff\">Conv2D</span>)               │ (<span style=\"color: #00d7ff; text-decoration-color: #00d7ff\">None</span>, <span style=\"color: #00af00; text-decoration-color: #00af00\">198</span>, <span style=\"color: #00af00; text-decoration-color: #00af00\">198</span>, <span style=\"color: #00af00; text-decoration-color: #00af00\">32</span>)   │           <span style=\"color: #00af00; text-decoration-color: #00af00\">896</span> │\n",
       "├─────────────────────────────────┼────────────────────────┼───────────────┤\n",
       "│ max_pooling2d_5 (<span style=\"color: #0087ff; text-decoration-color: #0087ff\">MaxPooling2D</span>)  │ (<span style=\"color: #00d7ff; text-decoration-color: #00d7ff\">None</span>, <span style=\"color: #00af00; text-decoration-color: #00af00\">99</span>, <span style=\"color: #00af00; text-decoration-color: #00af00\">99</span>, <span style=\"color: #00af00; text-decoration-color: #00af00\">32</span>)     │             <span style=\"color: #00af00; text-decoration-color: #00af00\">0</span> │\n",
       "├─────────────────────────────────┼────────────────────────┼───────────────┤\n",
       "│ flatten_5 (<span style=\"color: #0087ff; text-decoration-color: #0087ff\">Flatten</span>)             │ (<span style=\"color: #00d7ff; text-decoration-color: #00d7ff\">None</span>, <span style=\"color: #00af00; text-decoration-color: #00af00\">313632</span>)         │             <span style=\"color: #00af00; text-decoration-color: #00af00\">0</span> │\n",
       "├─────────────────────────────────┼────────────────────────┼───────────────┤\n",
       "│ dense_8 (<span style=\"color: #0087ff; text-decoration-color: #0087ff\">Dense</span>)                 │ (<span style=\"color: #00d7ff; text-decoration-color: #00d7ff\">None</span>, <span style=\"color: #00af00; text-decoration-color: #00af00\">64</span>)             │    <span style=\"color: #00af00; text-decoration-color: #00af00\">20,072,512</span> │\n",
       "├─────────────────────────────────┼────────────────────────┼───────────────┤\n",
       "│ dense_9 (<span style=\"color: #0087ff; text-decoration-color: #0087ff\">Dense</span>)                 │ (<span style=\"color: #00d7ff; text-decoration-color: #00d7ff\">None</span>, <span style=\"color: #00af00; text-decoration-color: #00af00\">1</span>)              │            <span style=\"color: #00af00; text-decoration-color: #00af00\">65</span> │\n",
       "└─────────────────────────────────┴────────────────────────┴───────────────┘\n",
       "</pre>\n"
      ],
      "text/plain": [
       "┏━━━━━━━━━━━━━━━━━━━━━━━━━━━━━━━━━┳━━━━━━━━━━━━━━━━━━━━━━━━┳━━━━━━━━━━━━━━━┓\n",
       "┃\u001b[1m \u001b[0m\u001b[1mLayer (type)                   \u001b[0m\u001b[1m \u001b[0m┃\u001b[1m \u001b[0m\u001b[1mOutput Shape          \u001b[0m\u001b[1m \u001b[0m┃\u001b[1m \u001b[0m\u001b[1m      Param #\u001b[0m\u001b[1m \u001b[0m┃\n",
       "┡━━━━━━━━━━━━━━━━━━━━━━━━━━━━━━━━━╇━━━━━━━━━━━━━━━━━━━━━━━━╇━━━━━━━━━━━━━━━┩\n",
       "│ conv2d_5 (\u001b[38;5;33mConv2D\u001b[0m)               │ (\u001b[38;5;45mNone\u001b[0m, \u001b[38;5;34m198\u001b[0m, \u001b[38;5;34m198\u001b[0m, \u001b[38;5;34m32\u001b[0m)   │           \u001b[38;5;34m896\u001b[0m │\n",
       "├─────────────────────────────────┼────────────────────────┼───────────────┤\n",
       "│ max_pooling2d_5 (\u001b[38;5;33mMaxPooling2D\u001b[0m)  │ (\u001b[38;5;45mNone\u001b[0m, \u001b[38;5;34m99\u001b[0m, \u001b[38;5;34m99\u001b[0m, \u001b[38;5;34m32\u001b[0m)     │             \u001b[38;5;34m0\u001b[0m │\n",
       "├─────────────────────────────────┼────────────────────────┼───────────────┤\n",
       "│ flatten_5 (\u001b[38;5;33mFlatten\u001b[0m)             │ (\u001b[38;5;45mNone\u001b[0m, \u001b[38;5;34m313632\u001b[0m)         │             \u001b[38;5;34m0\u001b[0m │\n",
       "├─────────────────────────────────┼────────────────────────┼───────────────┤\n",
       "│ dense_8 (\u001b[38;5;33mDense\u001b[0m)                 │ (\u001b[38;5;45mNone\u001b[0m, \u001b[38;5;34m64\u001b[0m)             │    \u001b[38;5;34m20,072,512\u001b[0m │\n",
       "├─────────────────────────────────┼────────────────────────┼───────────────┤\n",
       "│ dense_9 (\u001b[38;5;33mDense\u001b[0m)                 │ (\u001b[38;5;45mNone\u001b[0m, \u001b[38;5;34m1\u001b[0m)              │            \u001b[38;5;34m65\u001b[0m │\n",
       "└─────────────────────────────────┴────────────────────────┴───────────────┘\n"
      ]
     },
     "metadata": {},
     "output_type": "display_data"
    },
    {
     "data": {
      "text/html": [
       "<pre style=\"white-space:pre;overflow-x:auto;line-height:normal;font-family:Menlo,'DejaVu Sans Mono',consolas,'Courier New',monospace\"><span style=\"font-weight: bold\"> Total params: </span><span style=\"color: #00af00; text-decoration-color: #00af00\">20,073,473</span> (76.57 MB)\n",
       "</pre>\n"
      ],
      "text/plain": [
       "\u001b[1m Total params: \u001b[0m\u001b[38;5;34m20,073,473\u001b[0m (76.57 MB)\n"
      ]
     },
     "metadata": {},
     "output_type": "display_data"
    },
    {
     "data": {
      "text/html": [
       "<pre style=\"white-space:pre;overflow-x:auto;line-height:normal;font-family:Menlo,'DejaVu Sans Mono',consolas,'Courier New',monospace\"><span style=\"font-weight: bold\"> Trainable params: </span><span style=\"color: #00af00; text-decoration-color: #00af00\">20,073,473</span> (76.57 MB)\n",
       "</pre>\n"
      ],
      "text/plain": [
       "\u001b[1m Trainable params: \u001b[0m\u001b[38;5;34m20,073,473\u001b[0m (76.57 MB)\n"
      ]
     },
     "metadata": {},
     "output_type": "display_data"
    },
    {
     "data": {
      "text/html": [
       "<pre style=\"white-space:pre;overflow-x:auto;line-height:normal;font-family:Menlo,'DejaVu Sans Mono',consolas,'Courier New',monospace\"><span style=\"font-weight: bold\"> Non-trainable params: </span><span style=\"color: #00af00; text-decoration-color: #00af00\">0</span> (0.00 B)\n",
       "</pre>\n"
      ],
      "text/plain": [
       "\u001b[1m Non-trainable params: \u001b[0m\u001b[38;5;34m0\u001b[0m (0.00 B)\n"
      ]
     },
     "metadata": {},
     "output_type": "display_data"
    }
   ],
   "source": [
    "model = Sequential([\n",
    "    Conv2D(filters=32, kernel_size=(3,3), activation='relu', input_shape=(200,200,3)),\n",
    "    MaxPooling2D(pool_size=(2,2)),\n",
    "    Flatten(),\n",
    "    Dense(units=64, activation='relu'),\n",
    "    Dense(units=1, activation='sigmoid')\n",
    "])\n",
    "\n",
    "optimizer = SGD(learning_rate=0.002, momentum=0.8)\n",
    "loss = BinaryCrossentropy()\n",
    "\n",
    "model.compile(optimizer=optimizer, loss=loss, metrics=['accuracy'])\n",
    "model.summary()"
   ]
  },
  {
   "cell_type": "code",
   "execution_count": 36,
   "id": "0ad0c97a-aa2a-4ada-b702-1a338dd9f656",
   "metadata": {
    "execution": {
     "iopub.execute_input": "2024-12-01T11:50:21.638431Z",
     "iopub.status.busy": "2024-12-01T11:50:21.638094Z",
     "iopub.status.idle": "2024-12-01T11:50:21.641481Z",
     "shell.execute_reply": "2024-12-01T11:50:21.640820Z",
     "shell.execute_reply.started": "2024-12-01T11:50:21.638411Z"
    }
   },
   "outputs": [],
   "source": [
    "### Question 3"
   ]
  },
  {
   "cell_type": "code",
   "execution_count": 37,
   "id": "bb729529-2a25-49b9-ab53-75730a9f1ea0",
   "metadata": {
    "execution": {
     "iopub.execute_input": "2024-12-01T11:50:22.260844Z",
     "iopub.status.busy": "2024-12-01T11:50:22.260463Z",
     "iopub.status.idle": "2024-12-01T11:50:22.294887Z",
     "shell.execute_reply": "2024-12-01T11:50:22.294353Z",
     "shell.execute_reply.started": "2024-12-01T11:50:22.260823Z"
    }
   },
   "outputs": [
    {
     "name": "stdout",
     "output_type": "stream",
     "text": [
      "Found 800 images belonging to 2 classes.\n",
      "Found 201 images belonging to 2 classes.\n"
     ]
    }
   ],
   "source": [
    "train_gen = ImageDataGenerator(rescale=1./255)\n",
    "\n",
    "train_ds = train_gen.flow_from_directory(\n",
    "    '../data/data/train',\n",
    "    class_mode = 'binary',\n",
    "    target_size=(200, 200),\n",
    "    batch_size=20,\n",
    "    shuffle=True\n",
    ")\n",
    "\n",
    "test_gen = ImageDataGenerator(rescale=1./255)\n",
    "\n",
    "test_ds = test_gen.flow_from_directory(\n",
    "    '../data/data/test',\n",
    "    class_mode = 'binary',\n",
    "    target_size=(200, 200),\n",
    "    batch_size=20,\n",
    "    shuffle=True\n",
    ")"
   ]
  },
  {
   "cell_type": "code",
   "execution_count": 38,
   "id": "adf86bfd-f8c6-451b-a5b0-db34729b2512",
   "metadata": {
    "execution": {
     "iopub.execute_input": "2024-12-01T11:50:23.536058Z",
     "iopub.status.busy": "2024-12-01T11:50:23.535718Z",
     "iopub.status.idle": "2024-12-01T11:51:19.252012Z",
     "shell.execute_reply": "2024-12-01T11:51:19.251386Z",
     "shell.execute_reply.started": "2024-12-01T11:50:23.536037Z"
    }
   },
   "outputs": [
    {
     "name": "stderr",
     "output_type": "stream",
     "text": [
      "/opt/saturncloud/envs/saturn/lib/python3.12/site-packages/keras/src/trainers/data_adapters/py_dataset_adapter.py:121: UserWarning: Your `PyDataset` class should call `super().__init__(**kwargs)` in its constructor. `**kwargs` can include `workers`, `use_multiprocessing`, `max_queue_size`. Do not pass these arguments to `fit()`, as they will be ignored.\n",
      "  self._warn_if_super_not_called()\n"
     ]
    },
    {
     "name": "stdout",
     "output_type": "stream",
     "text": [
      "Epoch 1/10\n",
      "\u001b[1m40/40\u001b[0m \u001b[32m━━━━━━━━━━━━━━━━━━━━\u001b[0m\u001b[37m\u001b[0m \u001b[1m7s\u001b[0m 147ms/step - accuracy: 0.5875 - loss: 0.7143 - val_accuracy: 0.5920 - val_loss: 0.6446\n",
      "Epoch 2/10\n",
      "\u001b[1m40/40\u001b[0m \u001b[32m━━━━━━━━━━━━━━━━━━━━\u001b[0m\u001b[37m\u001b[0m \u001b[1m5s\u001b[0m 137ms/step - accuracy: 0.6721 - loss: 0.5991 - val_accuracy: 0.6219 - val_loss: 0.6536\n",
      "Epoch 3/10\n",
      "\u001b[1m40/40\u001b[0m \u001b[32m━━━━━━━━━━━━━━━━━━━━\u001b[0m\u001b[37m\u001b[0m \u001b[1m5s\u001b[0m 132ms/step - accuracy: 0.6903 - loss: 0.5874 - val_accuracy: 0.6318 - val_loss: 0.6272\n",
      "Epoch 4/10\n",
      "\u001b[1m40/40\u001b[0m \u001b[32m━━━━━━━━━━━━━━━━━━━━\u001b[0m\u001b[37m\u001b[0m \u001b[1m5s\u001b[0m 134ms/step - accuracy: 0.7218 - loss: 0.5507 - val_accuracy: 0.6468 - val_loss: 0.6120\n",
      "Epoch 5/10\n",
      "\u001b[1m40/40\u001b[0m \u001b[32m━━━━━━━━━━━━━━━━━━━━\u001b[0m\u001b[37m\u001b[0m \u001b[1m5s\u001b[0m 137ms/step - accuracy: 0.7247 - loss: 0.5304 - val_accuracy: 0.6517 - val_loss: 0.6166\n",
      "Epoch 6/10\n",
      "\u001b[1m40/40\u001b[0m \u001b[32m━━━━━━━━━━━━━━━━━━━━\u001b[0m\u001b[37m\u001b[0m \u001b[1m5s\u001b[0m 134ms/step - accuracy: 0.7347 - loss: 0.5192 - val_accuracy: 0.6617 - val_loss: 0.5971\n",
      "Epoch 7/10\n",
      "\u001b[1m40/40\u001b[0m \u001b[32m━━━━━━━━━━━━━━━━━━━━\u001b[0m\u001b[37m\u001b[0m \u001b[1m5s\u001b[0m 134ms/step - accuracy: 0.7497 - loss: 0.4866 - val_accuracy: 0.6766 - val_loss: 0.6036\n",
      "Epoch 8/10\n",
      "\u001b[1m40/40\u001b[0m \u001b[32m━━━━━━━━━━━━━━━━━━━━\u001b[0m\u001b[37m\u001b[0m \u001b[1m5s\u001b[0m 134ms/step - accuracy: 0.7920 - loss: 0.4765 - val_accuracy: 0.6617 - val_loss: 0.6003\n",
      "Epoch 9/10\n",
      "\u001b[1m40/40\u001b[0m \u001b[32m━━━━━━━━━━━━━━━━━━━━\u001b[0m\u001b[37m\u001b[0m \u001b[1m5s\u001b[0m 138ms/step - accuracy: 0.7937 - loss: 0.4465 - val_accuracy: 0.6567 - val_loss: 0.6581\n",
      "Epoch 10/10\n",
      "\u001b[1m40/40\u001b[0m \u001b[32m━━━━━━━━━━━━━━━━━━━━\u001b[0m\u001b[37m\u001b[0m \u001b[1m5s\u001b[0m 136ms/step - accuracy: 0.8062 - loss: 0.4272 - val_accuracy: 0.6517 - val_loss: 0.6415\n"
     ]
    }
   ],
   "source": [
    "history = model.fit(\n",
    "    train_ds,\n",
    "    epochs=10,\n",
    "    validation_data=test_ds\n",
    ")"
   ]
  },
  {
   "cell_type": "code",
   "execution_count": 44,
   "id": "0e160836-16c6-4135-8fd0-2c102c0e11db",
   "metadata": {
    "execution": {
     "iopub.execute_input": "2024-12-01T11:52:48.059345Z",
     "iopub.status.busy": "2024-12-01T11:52:48.059022Z",
     "iopub.status.idle": "2024-12-01T11:52:48.064013Z",
     "shell.execute_reply": "2024-12-01T11:52:48.063482Z",
     "shell.execute_reply.started": "2024-12-01T11:52:48.059324Z"
    }
   },
   "outputs": [
    {
     "data": {
      "text/plain": [
       "0.7243750095367432"
      ]
     },
     "execution_count": 44,
     "metadata": {},
     "output_type": "execute_result"
    }
   ],
   "source": [
    "np.median(history.history['accuracy'])"
   ]
  },
  {
   "cell_type": "code",
   "execution_count": 45,
   "id": "7eded408-8438-4094-8767-180c160caecd",
   "metadata": {
    "execution": {
     "iopub.execute_input": "2024-12-01T11:52:49.990447Z",
     "iopub.status.busy": "2024-12-01T11:52:49.990117Z",
     "iopub.status.idle": "2024-12-01T11:52:49.993371Z",
     "shell.execute_reply": "2024-12-01T11:52:49.992740Z",
     "shell.execute_reply.started": "2024-12-01T11:52:49.990426Z"
    }
   },
   "outputs": [],
   "source": [
    "### Question 4"
   ]
  },
  {
   "cell_type": "code",
   "execution_count": 46,
   "id": "af60a9c8-b2cf-411e-9710-7aed18ca5768",
   "metadata": {
    "execution": {
     "iopub.execute_input": "2024-12-01T11:52:54.241741Z",
     "iopub.status.busy": "2024-12-01T11:52:54.241427Z",
     "iopub.status.idle": "2024-12-01T11:52:54.246299Z",
     "shell.execute_reply": "2024-12-01T11:52:54.245787Z",
     "shell.execute_reply.started": "2024-12-01T11:52:54.241719Z"
    }
   },
   "outputs": [
    {
     "data": {
      "text/plain": [
       "0.07380956632575524"
      ]
     },
     "execution_count": 46,
     "metadata": {},
     "output_type": "execute_result"
    }
   ],
   "source": [
    "np.std(history.history['loss'])"
   ]
  },
  {
   "cell_type": "code",
   "execution_count": 47,
   "id": "43918b16-50be-4d77-b8d9-45968a46924e",
   "metadata": {
    "execution": {
     "iopub.execute_input": "2024-12-01T11:55:48.690890Z",
     "iopub.status.busy": "2024-12-01T11:55:48.690522Z",
     "iopub.status.idle": "2024-12-01T11:55:48.693739Z",
     "shell.execute_reply": "2024-12-01T11:55:48.693133Z",
     "shell.execute_reply.started": "2024-12-01T11:55:48.690868Z"
    }
   },
   "outputs": [],
   "source": [
    "### Question 5"
   ]
  },
  {
   "cell_type": "code",
   "execution_count": null,
   "id": "e35dec21-46a9-4e19-b765-67c54084eb6e",
   "metadata": {},
   "outputs": [],
   "source": []
  }
 ],
 "metadata": {
  "kernelspec": {
   "display_name": "saturn (Python 3)",
   "language": "python",
   "name": "python3"
  },
  "language_info": {
   "codemirror_mode": {
    "name": "ipython",
    "version": 3
   },
   "file_extension": ".py",
   "mimetype": "text/x-python",
   "name": "python",
   "nbconvert_exporter": "python",
   "pygments_lexer": "ipython3",
   "version": "3.12.7"
  }
 },
 "nbformat": 4,
 "nbformat_minor": 5
}
